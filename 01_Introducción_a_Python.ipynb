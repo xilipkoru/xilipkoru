{
  "nbformat": 4,
  "nbformat_minor": 0,
  "metadata": {
    "colab": {
      "provenance": [],
      "include_colab_link": true
    },
    "kernelspec": {
      "name": "python3",
      "display_name": "Python 3"
    }
  },
  "cells": [
    {
      "cell_type": "markdown",
      "metadata": {
        "id": "view-in-github",
        "colab_type": "text"
      },
      "source": [
        "<a href=\"https://colab.research.google.com/github/xilipkoru/xilipkoru/blob/main/01_Introducci%C3%B3n_a_Python.ipynb\" target=\"_parent\"><img src=\"https://colab.research.google.com/assets/colab-badge.svg\" alt=\"Open In Colab\"/></a>"
      ]
    },
    {
      "cell_type": "markdown",
      "metadata": {
        "id": "GYJlZ0ig2o32"
      },
      "source": [
        "# Introducción a Python\n",
        "\n",
        "---\n",
        "Realizó: Fernanda Saldivar y Diana Prado\n",
        "\n",
        "Contacto: fer.saldivarg@gmail.com, pradodiana93@gmail.com\n"
      ]
    },
    {
      "cell_type": "markdown",
      "source": [
        "# Objetivos\n",
        "\n",
        "---\n",
        "\n",
        "* Introducir definiciones y funciones básicas de Python.\n",
        "* Presentar el concepto de librerías/paqueterías.\n",
        "* Importar conjuntos de datos (*dataset*) existentes.\n"
      ],
      "metadata": {
        "id": "rsaQsNSIFVz-"
      }
    },
    {
      "cell_type": "markdown",
      "source": [
        "# Introducción:\n",
        "\n",
        "[Python](https://docs.python.org/3/) es un lenguaje de programación interpretado y orientado a objetos. La amplia aplicabilidad y el soporte de paqueterías con las que cuenta, permiten que se construyan productos y *software* altamente versátiles y escalables en el mundo real.\n",
        "En la ciencia, cada vez es más recurrente el uso de Python en áreas como la bioinformática y la quimioinformática para el manejo y análisis de datos complejos, como: datos genómicos, imágenes médicas, registros médicos electrónicos y bases de datos de miles (incluso millones) de compuestos químicos. Python se ha convertido en un lenguaje de programación muy atractivo en el campo de la bioinformática y la quimioinformática debido a su rápida curva de aprendizaje y su fácil integración en varias aplicaciones.\n"
      ],
      "metadata": {
        "id": "NiHvaOvAxd-s"
      }
    },
    {
      "cell_type": "markdown",
      "metadata": {
        "id": "li3hHeuCFhKi"
      },
      "source": [
        "### Tabla de Contenidos\n",
        "\n",
        "---\n",
        "* [Datos](#Datos)\n",
        "* [Variables](#Variables)\n",
        "* [Funciones](#Funciones)\n",
        "* [Librerías/paqueterías](#Librerias/Paqueterias)\n",
        "* [Tablas](#Manipulacion_de_tablas)\n",
        "\n",
        "\n",
        "\n",
        "\n",
        "\n"
      ]
    },
    {
      "cell_type": "markdown",
      "source": [
        "Es importante verificar la versión de Python con la que estamos trabajando antes de comenzar, de esta forma nos aseguramos de utilizar la síntaxis correcta. También es un dato importante cuando compartimos nuestro código y nuestros resultados para que sean reproducibles.\n",
        "Para conocer la versión de Python con la que estamos trabajando ejecutamos el siguiente código:"
      ],
      "metadata": {
        "id": "vXQWFwpQ-iDh"
      }
    },
    {
      "cell_type": "code",
      "source": [
        "!python --version"
      ],
      "metadata": {
        "colab": {
          "base_uri": "https://localhost:8080/"
        },
        "id": "ZfEAyO9QhAhp",
        "outputId": "f663b573-5acc-46c5-9c35-de05c938dfd1"
      },
      "execution_count": null,
      "outputs": [
        {
          "output_type": "stream",
          "name": "stdout",
          "text": [
            "Python 3.10.12\n"
          ]
        }
      ]
    },
    {
      "cell_type": "markdown",
      "metadata": {
        "id": "t0tkuKAVRHqb"
      },
      "source": [
        "# Datos <a class=\"anchor\" id=\"Datos\"></a>\n",
        "\n",
        "---\n",
        "En Python hay tipos específicos de valores que podemos usar. A continuación se mencionan los diferentes tipos de datos en Python junto con algunos ejemplos:\n",
        "\n",
        "*   *Boolean* (bool): es una variable que puede ser _verdadera_ o _falsa_.\n",
        "\n",
        "*   *Integer* (int): representa números enteros positivos o negativos, como 8 o -678.\n",
        "\n",
        "*   *Floating point number* (float): representa números reales, como  3.14159 o -6.5.\n",
        "\n",
        "*    *String* de caracteres (str) : son cadenas de caracteres, es decir, valores de texto, por ejemplo \"hola\" o \"banana\".\n",
        "\n",
        "*   Listas (list) : este tipo de valor es una lista, ya sea de valores integer o float. Por ejemplo: [1,2,3,4] o [1.23, 2, 3.54, 4]\n",
        "\n",
        "Para confirmar el tipo de valor con el que estamos trabajando podemos hacer uso de  **type( )** y el nombre de la variable dentro de los parentesis.\n",
        "\n",
        "Para más información, consulten la [documentación](https://docs.python.org/3/library/stdtypes.html \"Python's Built-in Types\").\n",
        "\n"
      ]
    },
    {
      "cell_type": "code",
      "source": [
        "#Ejemplo de la función type()\n",
        "type(0.8)"
      ],
      "metadata": {
        "id": "wCOHw2kQtPkb",
        "colab": {
          "base_uri": "https://localhost:8080/"
        },
        "outputId": "a6151284-14ec-497a-bd6c-9b58a472d2d3"
      },
      "execution_count": null,
      "outputs": [
        {
          "output_type": "execute_result",
          "data": {
            "text/plain": [
              "float"
            ]
          },
          "metadata": {},
          "execution_count": 3
        }
      ]
    },
    {
      "cell_type": "code",
      "metadata": {
        "id": "7q4Uw8X9LRgf",
        "colab": {
          "base_uri": "https://localhost:8080/"
        },
        "outputId": "f0a610ef-912f-4468-b52f-3cebcc9002f7"
      },
      "source": [
        "type(5)"
      ],
      "execution_count": null,
      "outputs": [
        {
          "output_type": "execute_result",
          "data": {
            "text/plain": [
              "int"
            ]
          },
          "metadata": {},
          "execution_count": 4
        }
      ]
    },
    {
      "cell_type": "markdown",
      "metadata": {
        "id": "QBuGVFyXlame"
      },
      "source": [
        "El operador de comparación **==** compara si dos valores son iguales. Nos devuelve un tipo de variable llamado *boolean* o booleana, que puede ser _verdadera_ o _falsa_.\n"
      ]
    },
    {
      "cell_type": "code",
      "source": [
        "#Asignamos el valor 3 a la variable \"a\"\n",
        "a= 3"
      ],
      "metadata": {
        "id": "bIWRcSFEVt4A"
      },
      "execution_count": null,
      "outputs": []
    },
    {
      "cell_type": "code",
      "metadata": {
        "id": "QJV984oSla95",
        "colab": {
          "base_uri": "https://localhost:8080/"
        },
        "outputId": "b042c86d-76e5-4967-cea7-ad815fcfdd7c"
      },
      "source": [
        "#Comparamos el valor actual de \"a\" con el número 2\n",
        "a == 2"
      ],
      "execution_count": null,
      "outputs": [
        {
          "output_type": "execute_result",
          "data": {
            "text/plain": [
              "False"
            ]
          },
          "metadata": {},
          "execution_count": 6
        }
      ]
    },
    {
      "cell_type": "markdown",
      "metadata": {
        "id": "f0IomoI3pVTo"
      },
      "source": [
        "Como ya se mencionó, un valor de texto es un _string_. Para dar la instrucción de que queremos imprimir texto, usamos comillas simples o dobles (\" \" o ' ')."
      ]
    },
    {
      "cell_type": "code",
      "source": [
        "\"This is a string\""
      ],
      "metadata": {
        "colab": {
          "base_uri": "https://localhost:8080/",
          "height": 35
        },
        "id": "Q2s2ukcFhF91",
        "outputId": "5280a9a8-5ccf-498a-fed5-3f885d454b88"
      },
      "execution_count": null,
      "outputs": [
        {
          "output_type": "execute_result",
          "data": {
            "text/plain": [
              "'This is a string'"
            ],
            "application/vnd.google.colaboratory.intrinsic+json": {
              "type": "string"
            }
          },
          "metadata": {},
          "execution_count": 7
        }
      ]
    },
    {
      "cell_type": "markdown",
      "metadata": {
        "id": "l6E6KqusbS5a"
      },
      "source": [
        "Una cadena es un grupo de caracteres que puede contener números o no, pero si los contiene, no seguirá ningún axioma matemático conocido. Verifiquemos qué sucede cuando tratamos de sumar 50, 25 y X. Esto concatenará cadenas.\n"
      ]
    },
    {
      "cell_type": "code",
      "metadata": {
        "id": "ouI30KRhLENk",
        "colab": {
          "base_uri": "https://localhost:8080/",
          "height": 35
        },
        "outputId": "1602c28e-28aa-415b-b45a-b91aa51d1a5d"
      },
      "source": [
        "'50'+'25'+'X'"
      ],
      "execution_count": null,
      "outputs": [
        {
          "output_type": "execute_result",
          "data": {
            "text/plain": [
              "'5025X'"
            ],
            "application/vnd.google.colaboratory.intrinsic+json": {
              "type": "string"
            }
          },
          "metadata": {},
          "execution_count": 8
        }
      ]
    },
    {
      "cell_type": "markdown",
      "metadata": {
        "id": "mycMQv_7eyXZ"
      },
      "source": [
        "Las listas son tipos de datos importantes que permiten almacenar múltiples elementos en una sola variable. Los elementos están ordenados y se pueden cambiar después de la creación de la lista."
      ]
    },
    {
      "cell_type": "code",
      "source": [
        "# creación de una lista sin valores\n",
        "empty_list = []"
      ],
      "metadata": {
        "id": "HKmlKl6PzBGj"
      },
      "execution_count": null,
      "outputs": []
    },
    {
      "cell_type": "code",
      "source": [
        "empty_list"
      ],
      "metadata": {
        "colab": {
          "base_uri": "https://localhost:8080/"
        },
        "id": "Isp8t07ezFnm",
        "outputId": "be897068-b9d9-4821-8ded-3e7493c72df3"
      },
      "execution_count": null,
      "outputs": [
        {
          "output_type": "execute_result",
          "data": {
            "text/plain": [
              "[]"
            ]
          },
          "metadata": {},
          "execution_count": 10
        }
      ]
    },
    {
      "cell_type": "code",
      "source": [
        "# ejemplos de lenguajes de programación.\n",
        "languages = ['Python', 'Ruby', 'Javascript']"
      ],
      "metadata": {
        "id": "iI_4f8eOzJGq"
      },
      "execution_count": null,
      "outputs": []
    },
    {
      "cell_type": "code",
      "source": [
        "languages"
      ],
      "metadata": {
        "colab": {
          "base_uri": "https://localhost:8080/"
        },
        "id": "Vb57tTzrzVpv",
        "outputId": "3283549d-6984-4aed-8116-0383277fb57f"
      },
      "execution_count": null,
      "outputs": [
        {
          "output_type": "execute_result",
          "data": {
            "text/plain": [
              "['Python', 'Ruby', 'Javascript']"
            ]
          },
          "metadata": {},
          "execution_count": 12
        }
      ]
    },
    {
      "cell_type": "markdown",
      "source": [
        "Cada elemento tiene un índice, el primer elemento tiene índice [0], el segundo elemento tiene índice [1], etc."
      ],
      "metadata": {
        "id": "y5eLKAODzquI"
      }
    },
    {
      "cell_type": "code",
      "metadata": {
        "id": "O90VrVUVRG_O"
      },
      "source": [
        "list = [\"element1\", 2, 3.14]"
      ],
      "execution_count": null,
      "outputs": []
    },
    {
      "cell_type": "code",
      "source": [
        "list[0]"
      ],
      "metadata": {
        "colab": {
          "base_uri": "https://localhost:8080/",
          "height": 35
        },
        "id": "VRLHHwNRzac7",
        "outputId": "84495482-4d28-4d7e-e2cc-783e5bd0c72c"
      },
      "execution_count": null,
      "outputs": [
        {
          "output_type": "execute_result",
          "data": {
            "text/plain": [
              "'element1'"
            ],
            "application/vnd.google.colaboratory.intrinsic+json": {
              "type": "string"
            }
          },
          "metadata": {},
          "execution_count": 14
        }
      ]
    },
    {
      "cell_type": "code",
      "source": [
        " # acceso con índice negativo\n",
        " list[-1]"
      ],
      "metadata": {
        "colab": {
          "base_uri": "https://localhost:8080/"
        },
        "id": "P_FBqnrdz2x8",
        "outputId": "b5714e2c-8f90-4a65-d6d1-d724711410f8"
      },
      "execution_count": null,
      "outputs": [
        {
          "output_type": "execute_result",
          "data": {
            "text/plain": [
              "3.14"
            ]
          },
          "metadata": {},
          "execution_count": 15
        }
      ]
    },
    {
      "cell_type": "markdown",
      "source": [
        "El concepto de tupla es muy similar al de lista. Aunque hay algunas diferencias menores, lo fundamental es que, mientras una lista es mutable y se puede modificar, una tupla no admite cambios y por lo tanto, es inmutable."
      ],
      "metadata": {
        "id": "VPW1idB60L1_"
      }
    },
    {
      "cell_type": "code",
      "source": [
        "#Creación de una tupla\n",
        "elementos = (\"Hidrógeno\", \"Litio\", \"Aluminio\")\n",
        "elementos"
      ],
      "metadata": {
        "colab": {
          "base_uri": "https://localhost:8080/"
        },
        "id": "XGYxs6LS04JG",
        "outputId": "02c6715f-9cd8-4538-bf44-1fc4ee9cc481"
      },
      "execution_count": null,
      "outputs": [
        {
          "output_type": "execute_result",
          "data": {
            "text/plain": [
              "('Hidrógeno', 'Litio', 'Aluminio')"
            ]
          },
          "metadata": {},
          "execution_count": 16
        }
      ]
    },
    {
      "cell_type": "markdown",
      "source": [
        "Podemos trasladar el concepto de diccionario de la vida real al de diccionario en Python. Haciendo el paralelismo, diríamos que en Python un diccionario es también un objeto indexado por **claves** (las palabras) que tienen asociados unos **valores** (los significados)."
      ],
      "metadata": {
        "id": "fS7gJU2H1GC0"
      }
    },
    {
      "cell_type": "code",
      "source": [
        "# Creación de un diccionario vacío:\n",
        "dic_empty = {}\n",
        "dic_empty"
      ],
      "metadata": {
        "colab": {
          "base_uri": "https://localhost:8080/"
        },
        "id": "gNKNoac-1kly",
        "outputId": "c3277d28-2b27-4ef1-9f9f-0499a44ce590"
      },
      "execution_count": null,
      "outputs": [
        {
          "output_type": "execute_result",
          "data": {
            "text/plain": [
              "{}"
            ]
          },
          "metadata": {},
          "execution_count": 17
        }
      ]
    },
    {
      "cell_type": "code",
      "source": [
        "# Creación de un diccionario con elementos:\n",
        "elementos_1 = { \"Hidrógeno\": 1,\n",
        "                 \"Carbono\":  12,\n",
        "                 \"Azufre\":   32,\n",
        "                 }\n",
        "elementos_1"
      ],
      "metadata": {
        "colab": {
          "base_uri": "https://localhost:8080/"
        },
        "id": "eEM7zW_f1nT4",
        "outputId": "b955508d-49cd-41f5-f7eb-8382e3ab40b7"
      },
      "execution_count": null,
      "outputs": [
        {
          "output_type": "execute_result",
          "data": {
            "text/plain": [
              "{'Hidrógeno': 1, 'Carbono': 12, 'Azufre': 32}"
            ]
          },
          "metadata": {},
          "execution_count": 18
        }
      ]
    },
    {
      "cell_type": "markdown",
      "metadata": {
        "id": "cih8ETmIQldB"
      },
      "source": [
        "#Variables <a class=\"anchor\" id=\"Variables\"></a>\n",
        "---\n",
        "\n",
        "Las variables son nombres dados a elementos de datos que pueden tomar uno o más valores durante el tiempo de ejecución de un programa.\n",
        "Las siguientes son las convenciones de nomenclatura de variables en python:\n",
        "* No puede comenzar con un número.\n",
        "* Debe ser una sola palabra.\n",
        "* Debe constar únicamente de letras y símbolos _.\n",
        "* Las variables en Python que comienzan con _ (guión bajo) se consideran \"inútiles\".\n",
        "* No pueden ser una palabra reservada del lenguaje ***keywords***."
      ]
    },
    {
      "cell_type": "markdown",
      "source": [
        "![image.png](data:image/png;base64,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)"
      ],
      "metadata": {
        "id": "SPZDxYDA4zpW"
      }
    },
    {
      "cell_type": "code",
      "metadata": {
        "id": "ovwylM5j2y5a"
      },
      "source": [
        "#Definimos a las variables \"a\" y \"b\"\n",
        "a = 1\n",
        "b = 2"
      ],
      "execution_count": null,
      "outputs": []
    },
    {
      "cell_type": "code",
      "source": [
        "a"
      ],
      "metadata": {
        "colab": {
          "base_uri": "https://localhost:8080/"
        },
        "id": "w5g0s8ESrPk0",
        "outputId": "09440753-d34e-4363-e9ce-af7e2809ba61"
      },
      "execution_count": null,
      "outputs": [
        {
          "output_type": "execute_result",
          "data": {
            "text/plain": [
              "1"
            ]
          },
          "metadata": {},
          "execution_count": 20
        }
      ]
    },
    {
      "cell_type": "markdown",
      "source": [
        "#Operadores <a class=\"anchor\" id=\"Variables\"></a>\n",
        "---\n",
        "\n",
        "Es posible realizar varias operaciones con Python.\n",
        "En el caso de los operadores aritméticos es importante tomar en cuenta la prioridad:"
      ],
      "metadata": {
        "id": "quX8B8VP6ouV"
      }
    },
    {
      "cell_type": "markdown",
      "source": [
        "![image.png](data:image/png;base64,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)"
      ],
      "metadata": {
        "id": "G5ceOwEJ7J-g"
      }
    },
    {
      "cell_type": "markdown",
      "source": [
        "![image.png](data:image/png;base64,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)"
      ],
      "metadata": {
        "id": "2M_-WTHL7M2m"
      }
    },
    {
      "cell_type": "code",
      "source": [
        "suma = a + b\n",
        "exponente = suma ** b"
      ],
      "metadata": {
        "id": "NeHmnjKR3euS"
      },
      "execution_count": null,
      "outputs": []
    },
    {
      "cell_type": "code",
      "metadata": {
        "id": "zcIss8eSWqhy",
        "colab": {
          "base_uri": "https://localhost:8080/"
        },
        "outputId": "9dd18094-ba19-4c74-8b5f-971f266974b8"
      },
      "source": [
        "suma"
      ],
      "execution_count": null,
      "outputs": [
        {
          "output_type": "execute_result",
          "data": {
            "text/plain": [
              "3"
            ]
          },
          "metadata": {},
          "execution_count": 22
        }
      ]
    },
    {
      "cell_type": "code",
      "metadata": {
        "id": "i0Lcuu7CWsky",
        "colab": {
          "base_uri": "https://localhost:8080/"
        },
        "outputId": "4a613f9b-45ed-44e3-ac62-25c7b808f7da"
      },
      "source": [
        "exponente"
      ],
      "execution_count": null,
      "outputs": [
        {
          "output_type": "execute_result",
          "data": {
            "text/plain": [
              "9"
            ]
          },
          "metadata": {},
          "execution_count": 23
        }
      ]
    },
    {
      "cell_type": "markdown",
      "source": [
        "También podemos utilizar otros operadores de comparación:"
      ],
      "metadata": {
        "id": "r3VNeUJJ9GmO"
      }
    },
    {
      "cell_type": "code",
      "source": [
        "5 != 3"
      ],
      "metadata": {
        "colab": {
          "base_uri": "https://localhost:8080/"
        },
        "id": "XLB17QQR9MZs",
        "outputId": "2cf686a6-adb5-4c25-a85f-7c664ac0a96b"
      },
      "execution_count": null,
      "outputs": [
        {
          "output_type": "execute_result",
          "data": {
            "text/plain": [
              "True"
            ]
          },
          "metadata": {},
          "execution_count": 24
        }
      ]
    },
    {
      "cell_type": "code",
      "source": [
        "5 > 3"
      ],
      "metadata": {
        "colab": {
          "base_uri": "https://localhost:8080/"
        },
        "id": "qdRHdras9K6Z",
        "outputId": "00b8ab98-37a0-4ab3-dd25-2fdc3636d340"
      },
      "execution_count": null,
      "outputs": [
        {
          "output_type": "execute_result",
          "data": {
            "text/plain": [
              "True"
            ]
          },
          "metadata": {},
          "execution_count": 25
        }
      ]
    },
    {
      "cell_type": "code",
      "source": [
        "5 <= 3"
      ],
      "metadata": {
        "colab": {
          "base_uri": "https://localhost:8080/"
        },
        "id": "u76LLnhW9TJR",
        "outputId": "94901ef0-549c-4361-9bd4-fee5890a70cb"
      },
      "execution_count": null,
      "outputs": [
        {
          "output_type": "execute_result",
          "data": {
            "text/plain": [
              "False"
            ]
          },
          "metadata": {},
          "execution_count": 26
        }
      ]
    },
    {
      "cell_type": "markdown",
      "source": [
        "Para operadores lógicos como conjunción y disyunción tenemos que tomar en cuenta las tablas de verdad:"
      ],
      "metadata": {
        "id": "n5OIrbf2rV1j"
      }
    },
    {
      "cell_type": "markdown",
      "source": [
        "![image.png](data:image/png;base64,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)"
      ],
      "metadata": {
        "id": "iABiYZW7-xCP"
      }
    },
    {
      "cell_type": "code",
      "source": [
        "x = True\n",
        "y = False"
      ],
      "metadata": {
        "id": "LzYuzDjS-02u"
      },
      "execution_count": null,
      "outputs": []
    },
    {
      "cell_type": "code",
      "source": [
        "x or y"
      ],
      "metadata": {
        "colab": {
          "base_uri": "https://localhost:8080/"
        },
        "id": "HTLEccUU-60s",
        "outputId": "bdc74f1d-dcb7-4aa0-f148-41daf327cdf9"
      },
      "execution_count": null,
      "outputs": [
        {
          "output_type": "execute_result",
          "data": {
            "text/plain": [
              "True"
            ]
          },
          "metadata": {},
          "execution_count": 28
        }
      ]
    },
    {
      "cell_type": "code",
      "source": [
        "x and y"
      ],
      "metadata": {
        "colab": {
          "base_uri": "https://localhost:8080/"
        },
        "id": "Yf1JhX9P--wU",
        "outputId": "837c511a-a3c8-4339-8b44-f49890ef3e5a"
      },
      "execution_count": null,
      "outputs": [
        {
          "output_type": "execute_result",
          "data": {
            "text/plain": [
              "False"
            ]
          },
          "metadata": {},
          "execution_count": 29
        }
      ]
    },
    {
      "cell_type": "markdown",
      "source": [
        "Igualmente podemos utilizar operadores de pertenencia para saber si un elemento contiene a otro y operadores de identidad para saber si nos referimos al mismo objeto:"
      ],
      "metadata": {
        "id": "nA_Qguk2_yv-"
      }
    },
    {
      "cell_type": "code",
      "source": [
        "Metales = [\"Oro\", \"Plata\"]"
      ],
      "metadata": {
        "id": "LdHJP0qtADoi"
      },
      "execution_count": null,
      "outputs": []
    },
    {
      "cell_type": "code",
      "source": [
        "\"Niquel\" in Metales"
      ],
      "metadata": {
        "colab": {
          "base_uri": "https://localhost:8080/"
        },
        "id": "sgoPrsM8AIKm",
        "outputId": "4dd9a290-33fa-48e1-e2db-fbfd1efafcb9"
      },
      "execution_count": null,
      "outputs": [
        {
          "output_type": "execute_result",
          "data": {
            "text/plain": [
              "False"
            ]
          },
          "metadata": {},
          "execution_count": 31
        }
      ]
    },
    {
      "cell_type": "code",
      "source": [
        "x = 4\n",
        "list = [1, 6]"
      ],
      "metadata": {
        "id": "MHayrC8BAQlM"
      },
      "execution_count": null,
      "outputs": []
    },
    {
      "cell_type": "code",
      "source": [
        "x is list"
      ],
      "metadata": {
        "colab": {
          "base_uri": "https://localhost:8080/"
        },
        "id": "yNMf2RQWAXjv",
        "outputId": "3f7019cf-4488-4524-972e-8ec6a3823fb9"
      },
      "execution_count": null,
      "outputs": [
        {
          "output_type": "execute_result",
          "data": {
            "text/plain": [
              "False"
            ]
          },
          "metadata": {},
          "execution_count": 33
        }
      ]
    },
    {
      "cell_type": "markdown",
      "source": [
        "Finalmente, es posible modificar el orden en que se ejecuta el programa. Todo programa informático está formado por instrucciones en forma secuencial de «arriba» a «abajo». Este orden constituye el llamado flujo del programa. Es posible modificar este flujo secuencial para que tome bifurcaciones o repita ciertas instrucciones. Las sentencias que nos permiten hacer estas modificaciones se engloban en el **control de flujo**."
      ],
      "metadata": {
        "id": "uiO06N7YAsi4"
      }
    },
    {
      "cell_type": "code",
      "source": [
        "#Enunciado \"if\"\n",
        "temperatura = 36\n",
        "if temperatura > 35:   # dos puntos finales al final de la línea de código\n",
        "  print(\"Temperatura elevada\")   # indentación (espacio a la izquierda) después de los dos puntos"
      ],
      "metadata": {
        "colab": {
          "base_uri": "https://localhost:8080/"
        },
        "id": "X3Vqu8RHBJPy",
        "outputId": "364deb13-a0fe-4ffe-d3c5-ef09b5100ded"
      },
      "execution_count": null,
      "outputs": [
        {
          "output_type": "stream",
          "name": "stdout",
          "text": [
            "Temperatura elevada\n"
          ]
        }
      ]
    },
    {
      "cell_type": "code",
      "source": [
        "#Enunciado \"else\"\n",
        "temperatura = 30\n",
        "if temperatura > 35:   # dos puntos finales al final de la línea de código\n",
        "  print(\"Temperatura elevada\")\n",
        "else:\n",
        "  print(\"Temperatura normal\")"
      ],
      "metadata": {
        "colab": {
          "base_uri": "https://localhost:8080/"
        },
        "id": "5BVzt1BqBrGt",
        "outputId": "ef9652ea-611b-468a-95df-f53bd8e94e24"
      },
      "execution_count": null,
      "outputs": [
        {
          "output_type": "stream",
          "name": "stdout",
          "text": [
            "Temperatura normal\n"
          ]
        }
      ]
    },
    {
      "cell_type": "code",
      "source": [
        "#Enunciado \"elif\"\n",
        "#Ciclo anidado con \"elif\"\n",
        "T_1 = 28\n",
        "if T_1 < 20:\n",
        "  if   T_1 < 10:\n",
        "    print(\"Nivel azul\")\n",
        "  else:\n",
        "    print(\"Nivel verde\")\n",
        "elif T_1 < 30:\n",
        "  print(\"Nivel naranja\")\n",
        "else:\n",
        "  print(\"Nivel rojo\")"
      ],
      "metadata": {
        "colab": {
          "base_uri": "https://localhost:8080/"
        },
        "id": "kCiLXtJ1DOXa",
        "outputId": "d488bd62-f2c0-4218-c130-b5426500af30"
      },
      "execution_count": null,
      "outputs": [
        {
          "output_type": "stream",
          "name": "stdout",
          "text": [
            "Nivel naranja\n"
          ]
        }
      ]
    },
    {
      "cell_type": "markdown",
      "source": [
        "El primer mecanismo que existe en Python para repetir instrucciones es usar la sentencia while. La semántica tras esta sentencia es: «Mientras se cumpla la condición, haz algo»."
      ],
      "metadata": {
        "id": "ejFcbLgzD2KK"
      }
    },
    {
      "cell_type": "code",
      "source": [
        "#Enunciado \"while\"\n",
        "cuenta = 0\n",
        "while cuenta < 5:\n",
        "  cuenta += 1\n",
        "  print(cuenta)"
      ],
      "metadata": {
        "colab": {
          "base_uri": "https://localhost:8080/"
        },
        "id": "sG1cQTsuDoO-",
        "outputId": "f03705c2-efd4-45c4-b1ab-4cbfd789ae4f"
      },
      "execution_count": null,
      "outputs": [
        {
          "output_type": "stream",
          "name": "stdout",
          "text": [
            "1\n",
            "2\n",
            "3\n",
            "4\n",
            "5\n"
          ]
        }
      ]
    },
    {
      "cell_type": "markdown",
      "source": [
        "Python ofrece la posibilidad de romper o finalizar un bucle antes de que se cumpla con el enunciado **break**."
      ],
      "metadata": {
        "id": "ENgbHAbAD0rH"
      }
    },
    {
      "cell_type": "code",
      "source": [
        "cuenta = 0\n",
        "while cuenta < 5:\n",
        "  cuenta += 1\n",
        "  if cuenta == 3:\n",
        "    break\n",
        "print(\"El ciclo se acabó en el valor:\", cuenta)"
      ],
      "metadata": {
        "colab": {
          "base_uri": "https://localhost:8080/"
        },
        "id": "su5upJOQDwF8",
        "outputId": "d52103d3-18df-48a6-f136-de643feade8c"
      },
      "execution_count": null,
      "outputs": [
        {
          "output_type": "stream",
          "name": "stdout",
          "text": [
            "El ciclo se acabó en el valor: 3\n"
          ]
        }
      ]
    },
    {
      "cell_type": "markdown",
      "source": [
        "Python permite recorrer aquellos tipos de datos que sean iterables, como: cadenas de texto, listas o diccionarios."
      ],
      "metadata": {
        "id": "-WWTAbu2EqF8"
      }
    },
    {
      "cell_type": "code",
      "source": [
        "#Enunciado \"for\"\n",
        "palabra = \"elemento\"\n",
        "for letra in palabra:\n",
        "  print(letra)"
      ],
      "metadata": {
        "colab": {
          "base_uri": "https://localhost:8080/"
        },
        "id": "15CD_Dk0EobG",
        "outputId": "a3d3fc72-fc5a-4b8a-c139-e3c52a9212f0"
      },
      "execution_count": null,
      "outputs": [
        {
          "output_type": "stream",
          "name": "stdout",
          "text": [
            "e\n",
            "l\n",
            "e\n",
            "m\n",
            "e\n",
            "n\n",
            "t\n",
            "o\n"
          ]
        }
      ]
    },
    {
      "cell_type": "markdown",
      "source": [
        "### Conversión de tipos de datos\n",
        "\n",
        "La conversión de tipos de datos es básicamente una conversión de variables de un tipo de dato particular a otro tipo, de modo que la conversión sea válida. La conversión puede ser de dos maneras: implícita o explícita.\n",
        "\n"
      ],
      "metadata": {
        "id": "QBDASRQ5i5zq"
      }
    },
    {
      "cell_type": "markdown",
      "source": [
        "![1_Colab.png](data:image/png;base64,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)"
      ],
      "metadata": {
        "id": "PDKJT8yTnls1"
      }
    },
    {
      "cell_type": "markdown",
      "source": [
        "Conversión de tipos implícita: en la conversión implícita, el compilador de Python convierte internamente una variable en otro tipo sin la acción externa del usuario.\n",
        "Ejemplo:"
      ],
      "metadata": {
        "id": "Hb_65TNSlGuY"
      }
    },
    {
      "cell_type": "code",
      "source": [
        "int_num = 100\n",
        "float_num = 1.01\n",
        "ans = int_num + float_num\n",
        "print(type(int_num))\n",
        "print(type(float_num))\n",
        "# ans se convirtió a float\n",
        "print(type(ans))"
      ],
      "metadata": {
        "colab": {
          "base_uri": "https://localhost:8080/"
        },
        "id": "bt9PQE25jteI",
        "outputId": "e431d99b-df9f-44d4-c74b-dcea555fe07f"
      },
      "execution_count": null,
      "outputs": [
        {
          "output_type": "stream",
          "name": "stdout",
          "text": [
            "<class 'int'>\n",
            "<class 'float'>\n",
            "<class 'float'>\n"
          ]
        }
      ]
    },
    {
      "cell_type": "markdown",
      "source": [
        "Conversión de tipos explícita: en la conversión explícita, el usuario obliga al compilador a convertir una variable de un tipo a otro. Algunas de las diferentes formas de conversión explícita se muestran a continuación:"
      ],
      "metadata": {
        "id": "C5cLe1whn9mS"
      }
    },
    {
      "cell_type": "markdown",
      "source": [
        "* int a *String* o float:"
      ],
      "metadata": {
        "id": "bjruhFg8v8kW"
      }
    },
    {
      "cell_type": "code",
      "source": [
        "var = 123\n",
        "str(var)"
      ],
      "metadata": {
        "colab": {
          "base_uri": "https://localhost:8080/",
          "height": 35
        },
        "id": "JEOqm4pwv6SO",
        "outputId": "76ca1ed8-bc93-45b9-8be2-9a32bfae09fc"
      },
      "execution_count": null,
      "outputs": [
        {
          "output_type": "execute_result",
          "data": {
            "text/plain": [
              "'123'"
            ],
            "application/vnd.google.colaboratory.intrinsic+json": {
              "type": "string"
            }
          },
          "metadata": {},
          "execution_count": 41
        }
      ]
    },
    {
      "cell_type": "code",
      "source": [
        "var = 123\n",
        "float(var)"
      ],
      "metadata": {
        "colab": {
          "base_uri": "https://localhost:8080/"
        },
        "id": "PigGf0odrsEQ",
        "outputId": "7864998c-c646-4b22-da0c-37974de5457f"
      },
      "execution_count": null,
      "outputs": [
        {
          "output_type": "execute_result",
          "data": {
            "text/plain": [
              "123.0"
            ]
          },
          "metadata": {},
          "execution_count": 42
        }
      ]
    },
    {
      "cell_type": "markdown",
      "source": [
        "* float a int"
      ],
      "metadata": {
        "id": "dxYM-m4Ow3PX"
      }
    },
    {
      "cell_type": "code",
      "source": [
        "var = 7.8\n",
        "print(int(var))"
      ],
      "metadata": {
        "colab": {
          "base_uri": "https://localhost:8080/"
        },
        "id": "e1e6ZtYAw1IY",
        "outputId": "1151f00f-af9e-4680-f09b-3c807ce74ee0"
      },
      "execution_count": null,
      "outputs": [
        {
          "output_type": "stream",
          "name": "stdout",
          "text": [
            "7\n"
          ]
        }
      ]
    },
    {
      "cell_type": "markdown",
      "metadata": {
        "id": "LsNkaeDYRLOK"
      },
      "source": [
        "# Funciones\n",
        "---\n",
        "Empecemos definiendo una **función** como una pieza reusable de código, que sólo es ejecutada cuando se la llama. Python tiene algunas funciones integradas, como **print()** (que usamos previamente, **sum()** y **pow()**.\n",
        "\n",
        "La función **print()** de Python nos permite visualizar el valor de una variable después de calcularla.\n",
        "\n",
        "Para más información acerca de las funciones integradas de Python, dirigirse a la [documentación de Pyhton](https://docs.python.org/3/library/functions.html \"Python's Built-in Functions\").\n",
        "\n",
        "\n"
      ]
    },
    {
      "cell_type": "code",
      "metadata": {
        "id": "NpKM3o2GWWas",
        "colab": {
          "base_uri": "https://localhost:8080/"
        },
        "outputId": "31260e1c-cf60-43c5-eb8d-214192f57cd4"
      },
      "source": [
        "print(\"Hello World!\")"
      ],
      "execution_count": null,
      "outputs": [
        {
          "output_type": "stream",
          "name": "stdout",
          "text": [
            "Hello World!\n"
          ]
        }
      ]
    },
    {
      "cell_type": "code",
      "metadata": {
        "id": "GvkOVTp4qB2O",
        "colab": {
          "base_uri": "https://localhost:8080/"
        },
        "outputId": "15d0c1c2-c559-4153-9cc1-b14d2f213232"
      },
      "source": [
        "sum([1,2])"
      ],
      "execution_count": null,
      "outputs": [
        {
          "output_type": "execute_result",
          "data": {
            "text/plain": [
              "3"
            ]
          },
          "metadata": {},
          "execution_count": 45
        }
      ]
    },
    {
      "cell_type": "code",
      "metadata": {
        "id": "BuRsD2dFqEtS",
        "colab": {
          "base_uri": "https://localhost:8080/"
        },
        "outputId": "47c7ed55-57f9-4bbc-b246-6d3cf7c36b96"
      },
      "source": [
        "pow(3,2)"
      ],
      "execution_count": null,
      "outputs": [
        {
          "output_type": "execute_result",
          "data": {
            "text/plain": [
              "9"
            ]
          },
          "metadata": {},
          "execution_count": 46
        }
      ]
    },
    {
      "cell_type": "markdown",
      "metadata": {
        "id": "Sq4KIMndWZ2A"
      },
      "source": [
        "Aparte de estas funciones integradas, es posible definir nuestras propias funciones. Muchas veces queremos reutilizar algún código para calcular resultados basados en datos diferentes. Por eso es bastante común condensar este código en forma de **Funciones**.\n",
        "\n",
        "\n",
        "Para empezar a escribir una función, empezamos escribiendo la palabra \"*def*\", seguida de una indentación (espacios en blanco o tabulaciones), para que sea fácil de reconocer.\n",
        "\n",
        "Para entender mejor las funciones, debemos introducir el concepto de **parámetro** y **argumento**. Un *parámetro* es una variable que se define al declarar la función, los parámetros se escriben entre paréntesis. El *argumento* de un parámetro dado es el valor real del parámetro que se pasa a la función.\n",
        "\n",
        "Adicionalmente necesitamos especificar cuáles son las **salidas** de nuestra función para que podamos llamarlas individualmente según las necesitemos. Estas salidas se definen como nuevas variables que dependen de nuestros parámetros previamente definidos. Están determinadas por la palabra \"_return_\".\n",
        "\n",
        "\n",
        "\n",
        "\n"
      ]
    },
    {
      "cell_type": "markdown",
      "source": [
        "![2. Colab.png](data:image/png;base64,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)\n",
        "\n",
        "Imagen traducida de [InterviewBit](https://www.interviewbit.com/python-cheat-sheet/). recuperado en julio del 2022."
      ],
      "metadata": {
        "id": "UVzffDZfyC68"
      }
    },
    {
      "cell_type": "markdown",
      "source": [
        "Reescribamos nuestro código matemático anterior en una *función* para dejarlo claro:"
      ],
      "metadata": {
        "id": "X9UxBGCYzdhV"
      }
    },
    {
      "cell_type": "code",
      "metadata": {
        "id": "9bZqlk5VXnS1"
      },
      "source": [
        "def suma_multiplicacion (arg1,arg2):\n",
        "    resultado = arg1 + arg2\n",
        "    resultado2= arg1*arg2\n",
        "    return resultado, resultado2"
      ],
      "execution_count": null,
      "outputs": []
    },
    {
      "cell_type": "code",
      "source": [
        "suma_multiplicacion(4,2)"
      ],
      "metadata": {
        "colab": {
          "base_uri": "https://localhost:8080/"
        },
        "id": "v_jbPaCxIuIC",
        "outputId": "95e665bf-6efb-4b5d-d23f-4f2fc1dcd0b2"
      },
      "execution_count": null,
      "outputs": [
        {
          "output_type": "execute_result",
          "data": {
            "text/plain": [
              "(6, 8)"
            ]
          },
          "metadata": {},
          "execution_count": 48
        }
      ]
    },
    {
      "cell_type": "markdown",
      "metadata": {
        "id": "UdCaoRaEQq1U"
      },
      "source": [
        "# Librerías/Paqueterías\n",
        "---\n",
        "\n"
      ]
    },
    {
      "cell_type": "markdown",
      "metadata": {
        "id": "PIp2idj6Pl96"
      },
      "source": [
        "Las librerías son un conjunto de funcionalidades que permiten al usuario llevar a cabo acciones específicas que no están en Python en primera instancia. Para poder hacer uso de las librerías necesitamos importarlas. En esta sección importaremos los siguientes módulos para la gestión de datos:\n",
        "\n",
        "`Pandas` proporciona funciones que generan tablas y nos permiten hacer diferentes tipos de procesamiento de datos. [Documentación Pandas](https://pandas.pydata.org/docs/)\n",
        "\n",
        "`Seaborn ` nos permite trabajar con las funciones estadísticas habituales y visualizar grandes conjuntos de datos gráficamente con una sintaxis simple. Para trabajar con Seaborn también necesitamos importar la librería gráfica `matplotlib`. [Documentación Seaborn ](https://seaborn.pydata.org/)\n",
        "\n",
        "Con el comando \"*import*\" podemos importar los módulos que necesitamos y que están guardados en nuestra computadora, siendo éste un *notebook online*, los módulos ya están instalados en una computadora externa.\n",
        "\n",
        "Pandas y Seaborn trabajan con conjuntos de datos en forma de tablas llamadas *dataframes*. Estos *dataframes* son esencialmente tablas de datos alineados en filas y columnas etiquetadas.\n"
      ]
    },
    {
      "cell_type": "code",
      "metadata": {
        "id": "4VBTMM6-5u3H"
      },
      "source": [
        "import pandas as pd\n",
        "import seaborn as sns\n",
        "#El comando \"as\" dice el nombre que le queremos dar al módulo para después llamarlo de una forma abreviada."
      ],
      "execution_count": null,
      "outputs": []
    },
    {
      "cell_type": "markdown",
      "source": [
        "A continuación, se muestra un ejemplo de cómo instalar e importar la librería `matplotlib`:"
      ],
      "metadata": {
        "id": "FAZX4VukK3PP"
      }
    },
    {
      "cell_type": "code",
      "source": [
        "!pip install matplotlib\n",
        "import matplotlib.pyplot as plt"
      ],
      "metadata": {
        "colab": {
          "base_uri": "https://localhost:8080/"
        },
        "id": "kqXo7v17Kx2n",
        "outputId": "2677c8f1-62ec-41e1-97d1-480ae1054af1"
      },
      "execution_count": null,
      "outputs": [
        {
          "output_type": "stream",
          "name": "stdout",
          "text": [
            "Requirement already satisfied: matplotlib in /usr/local/lib/python3.10/dist-packages (3.7.1)\n",
            "Requirement already satisfied: contourpy>=1.0.1 in /usr/local/lib/python3.10/dist-packages (from matplotlib) (1.2.0)\n",
            "Requirement already satisfied: cycler>=0.10 in /usr/local/lib/python3.10/dist-packages (from matplotlib) (0.12.1)\n",
            "Requirement already satisfied: fonttools>=4.22.0 in /usr/local/lib/python3.10/dist-packages (from matplotlib) (4.46.0)\n",
            "Requirement already satisfied: kiwisolver>=1.0.1 in /usr/local/lib/python3.10/dist-packages (from matplotlib) (1.4.5)\n",
            "Requirement already satisfied: numpy>=1.20 in /usr/local/lib/python3.10/dist-packages (from matplotlib) (1.23.5)\n",
            "Requirement already satisfied: packaging>=20.0 in /usr/local/lib/python3.10/dist-packages (from matplotlib) (23.2)\n",
            "Requirement already satisfied: pillow>=6.2.0 in /usr/local/lib/python3.10/dist-packages (from matplotlib) (9.4.0)\n",
            "Requirement already satisfied: pyparsing>=2.3.1 in /usr/local/lib/python3.10/dist-packages (from matplotlib) (3.1.1)\n",
            "Requirement already satisfied: python-dateutil>=2.7 in /usr/local/lib/python3.10/dist-packages (from matplotlib) (2.8.2)\n",
            "Requirement already satisfied: six>=1.5 in /usr/local/lib/python3.10/dist-packages (from python-dateutil>=2.7->matplotlib) (1.16.0)\n"
          ]
        }
      ]
    },
    {
      "cell_type": "markdown",
      "source": [
        "Cargaremos un conjunto de datos preexistente dentro del módulo Seaborn. El conjunto de datos con el que trabajaremos se llama \"anscombe\":"
      ],
      "metadata": {
        "id": "a0-aCSkKm_fU"
      }
    },
    {
      "cell_type": "code",
      "metadata": {
        "id": "cF7DoNAg5xue"
      },
      "source": [
        "df = sns.load_dataset('anscombe')"
      ],
      "execution_count": null,
      "outputs": []
    },
    {
      "cell_type": "code",
      "metadata": {
        "id": "egHj1uEJEeE-",
        "colab": {
          "base_uri": "https://localhost:8080/",
          "height": 1000
        },
        "outputId": "8066c83e-54ea-4910-f23f-eaa1aed46db7"
      },
      "source": [
        "#Veamos la forma de los datos que importamos, los notebooks son capaces de imprimir los datos en forma de tablas\n",
        "df"
      ],
      "execution_count": null,
      "outputs": [
        {
          "output_type": "execute_result",
          "data": {
            "text/plain": [
              "   dataset     x      y\n",
              "0        I  10.0   8.04\n",
              "1        I   8.0   6.95\n",
              "2        I  13.0   7.58\n",
              "3        I   9.0   8.81\n",
              "4        I  11.0   8.33\n",
              "5        I  14.0   9.96\n",
              "6        I   6.0   7.24\n",
              "7        I   4.0   4.26\n",
              "8        I  12.0  10.84\n",
              "9        I   7.0   4.82\n",
              "10       I   5.0   5.68\n",
              "11      II  10.0   9.14\n",
              "12      II   8.0   8.14\n",
              "13      II  13.0   8.74\n",
              "14      II   9.0   8.77\n",
              "15      II  11.0   9.26\n",
              "16      II  14.0   8.10\n",
              "17      II   6.0   6.13\n",
              "18      II   4.0   3.10\n",
              "19      II  12.0   9.13\n",
              "20      II   7.0   7.26\n",
              "21      II   5.0   4.74\n",
              "22     III  10.0   7.46\n",
              "23     III   8.0   6.77\n",
              "24     III  13.0  12.74\n",
              "25     III   9.0   7.11\n",
              "26     III  11.0   7.81\n",
              "27     III  14.0   8.84\n",
              "28     III   6.0   6.08\n",
              "29     III   4.0   5.39\n",
              "30     III  12.0   8.15\n",
              "31     III   7.0   6.42\n",
              "32     III   5.0   5.73\n",
              "33      IV   8.0   6.58\n",
              "34      IV   8.0   5.76\n",
              "35      IV   8.0   7.71\n",
              "36      IV   8.0   8.84\n",
              "37      IV   8.0   8.47\n",
              "38      IV   8.0   7.04\n",
              "39      IV   8.0   5.25\n",
              "40      IV  19.0  12.50\n",
              "41      IV   8.0   5.56\n",
              "42      IV   8.0   7.91\n",
              "43      IV   8.0   6.89"
            ],
            "text/html": [
              "\n",
              "  <div id=\"df-01e133b5-1b14-4a46-9365-c45050985336\" class=\"colab-df-container\">\n",
              "    <div>\n",
              "<style scoped>\n",
              "    .dataframe tbody tr th:only-of-type {\n",
              "        vertical-align: middle;\n",
              "    }\n",
              "\n",
              "    .dataframe tbody tr th {\n",
              "        vertical-align: top;\n",
              "    }\n",
              "\n",
              "    .dataframe thead th {\n",
              "        text-align: right;\n",
              "    }\n",
              "</style>\n",
              "<table border=\"1\" class=\"dataframe\">\n",
              "  <thead>\n",
              "    <tr style=\"text-align: right;\">\n",
              "      <th></th>\n",
              "      <th>dataset</th>\n",
              "      <th>x</th>\n",
              "      <th>y</th>\n",
              "    </tr>\n",
              "  </thead>\n",
              "  <tbody>\n",
              "    <tr>\n",
              "      <th>0</th>\n",
              "      <td>I</td>\n",
              "      <td>10.0</td>\n",
              "      <td>8.04</td>\n",
              "    </tr>\n",
              "    <tr>\n",
              "      <th>1</th>\n",
              "      <td>I</td>\n",
              "      <td>8.0</td>\n",
              "      <td>6.95</td>\n",
              "    </tr>\n",
              "    <tr>\n",
              "      <th>2</th>\n",
              "      <td>I</td>\n",
              "      <td>13.0</td>\n",
              "      <td>7.58</td>\n",
              "    </tr>\n",
              "    <tr>\n",
              "      <th>3</th>\n",
              "      <td>I</td>\n",
              "      <td>9.0</td>\n",
              "      <td>8.81</td>\n",
              "    </tr>\n",
              "    <tr>\n",
              "      <th>4</th>\n",
              "      <td>I</td>\n",
              "      <td>11.0</td>\n",
              "      <td>8.33</td>\n",
              "    </tr>\n",
              "    <tr>\n",
              "      <th>5</th>\n",
              "      <td>I</td>\n",
              "      <td>14.0</td>\n",
              "      <td>9.96</td>\n",
              "    </tr>\n",
              "    <tr>\n",
              "      <th>6</th>\n",
              "      <td>I</td>\n",
              "      <td>6.0</td>\n",
              "      <td>7.24</td>\n",
              "    </tr>\n",
              "    <tr>\n",
              "      <th>7</th>\n",
              "      <td>I</td>\n",
              "      <td>4.0</td>\n",
              "      <td>4.26</td>\n",
              "    </tr>\n",
              "    <tr>\n",
              "      <th>8</th>\n",
              "      <td>I</td>\n",
              "      <td>12.0</td>\n",
              "      <td>10.84</td>\n",
              "    </tr>\n",
              "    <tr>\n",
              "      <th>9</th>\n",
              "      <td>I</td>\n",
              "      <td>7.0</td>\n",
              "      <td>4.82</td>\n",
              "    </tr>\n",
              "    <tr>\n",
              "      <th>10</th>\n",
              "      <td>I</td>\n",
              "      <td>5.0</td>\n",
              "      <td>5.68</td>\n",
              "    </tr>\n",
              "    <tr>\n",
              "      <th>11</th>\n",
              "      <td>II</td>\n",
              "      <td>10.0</td>\n",
              "      <td>9.14</td>\n",
              "    </tr>\n",
              "    <tr>\n",
              "      <th>12</th>\n",
              "      <td>II</td>\n",
              "      <td>8.0</td>\n",
              "      <td>8.14</td>\n",
              "    </tr>\n",
              "    <tr>\n",
              "      <th>13</th>\n",
              "      <td>II</td>\n",
              "      <td>13.0</td>\n",
              "      <td>8.74</td>\n",
              "    </tr>\n",
              "    <tr>\n",
              "      <th>14</th>\n",
              "      <td>II</td>\n",
              "      <td>9.0</td>\n",
              "      <td>8.77</td>\n",
              "    </tr>\n",
              "    <tr>\n",
              "      <th>15</th>\n",
              "      <td>II</td>\n",
              "      <td>11.0</td>\n",
              "      <td>9.26</td>\n",
              "    </tr>\n",
              "    <tr>\n",
              "      <th>16</th>\n",
              "      <td>II</td>\n",
              "      <td>14.0</td>\n",
              "      <td>8.10</td>\n",
              "    </tr>\n",
              "    <tr>\n",
              "      <th>17</th>\n",
              "      <td>II</td>\n",
              "      <td>6.0</td>\n",
              "      <td>6.13</td>\n",
              "    </tr>\n",
              "    <tr>\n",
              "      <th>18</th>\n",
              "      <td>II</td>\n",
              "      <td>4.0</td>\n",
              "      <td>3.10</td>\n",
              "    </tr>\n",
              "    <tr>\n",
              "      <th>19</th>\n",
              "      <td>II</td>\n",
              "      <td>12.0</td>\n",
              "      <td>9.13</td>\n",
              "    </tr>\n",
              "    <tr>\n",
              "      <th>20</th>\n",
              "      <td>II</td>\n",
              "      <td>7.0</td>\n",
              "      <td>7.26</td>\n",
              "    </tr>\n",
              "    <tr>\n",
              "      <th>21</th>\n",
              "      <td>II</td>\n",
              "      <td>5.0</td>\n",
              "      <td>4.74</td>\n",
              "    </tr>\n",
              "    <tr>\n",
              "      <th>22</th>\n",
              "      <td>III</td>\n",
              "      <td>10.0</td>\n",
              "      <td>7.46</td>\n",
              "    </tr>\n",
              "    <tr>\n",
              "      <th>23</th>\n",
              "      <td>III</td>\n",
              "      <td>8.0</td>\n",
              "      <td>6.77</td>\n",
              "    </tr>\n",
              "    <tr>\n",
              "      <th>24</th>\n",
              "      <td>III</td>\n",
              "      <td>13.0</td>\n",
              "      <td>12.74</td>\n",
              "    </tr>\n",
              "    <tr>\n",
              "      <th>25</th>\n",
              "      <td>III</td>\n",
              "      <td>9.0</td>\n",
              "      <td>7.11</td>\n",
              "    </tr>\n",
              "    <tr>\n",
              "      <th>26</th>\n",
              "      <td>III</td>\n",
              "      <td>11.0</td>\n",
              "      <td>7.81</td>\n",
              "    </tr>\n",
              "    <tr>\n",
              "      <th>27</th>\n",
              "      <td>III</td>\n",
              "      <td>14.0</td>\n",
              "      <td>8.84</td>\n",
              "    </tr>\n",
              "    <tr>\n",
              "      <th>28</th>\n",
              "      <td>III</td>\n",
              "      <td>6.0</td>\n",
              "      <td>6.08</td>\n",
              "    </tr>\n",
              "    <tr>\n",
              "      <th>29</th>\n",
              "      <td>III</td>\n",
              "      <td>4.0</td>\n",
              "      <td>5.39</td>\n",
              "    </tr>\n",
              "    <tr>\n",
              "      <th>30</th>\n",
              "      <td>III</td>\n",
              "      <td>12.0</td>\n",
              "      <td>8.15</td>\n",
              "    </tr>\n",
              "    <tr>\n",
              "      <th>31</th>\n",
              "      <td>III</td>\n",
              "      <td>7.0</td>\n",
              "      <td>6.42</td>\n",
              "    </tr>\n",
              "    <tr>\n",
              "      <th>32</th>\n",
              "      <td>III</td>\n",
              "      <td>5.0</td>\n",
              "      <td>5.73</td>\n",
              "    </tr>\n",
              "    <tr>\n",
              "      <th>33</th>\n",
              "      <td>IV</td>\n",
              "      <td>8.0</td>\n",
              "      <td>6.58</td>\n",
              "    </tr>\n",
              "    <tr>\n",
              "      <th>34</th>\n",
              "      <td>IV</td>\n",
              "      <td>8.0</td>\n",
              "      <td>5.76</td>\n",
              "    </tr>\n",
              "    <tr>\n",
              "      <th>35</th>\n",
              "      <td>IV</td>\n",
              "      <td>8.0</td>\n",
              "      <td>7.71</td>\n",
              "    </tr>\n",
              "    <tr>\n",
              "      <th>36</th>\n",
              "      <td>IV</td>\n",
              "      <td>8.0</td>\n",
              "      <td>8.84</td>\n",
              "    </tr>\n",
              "    <tr>\n",
              "      <th>37</th>\n",
              "      <td>IV</td>\n",
              "      <td>8.0</td>\n",
              "      <td>8.47</td>\n",
              "    </tr>\n",
              "    <tr>\n",
              "      <th>38</th>\n",
              "      <td>IV</td>\n",
              "      <td>8.0</td>\n",
              "      <td>7.04</td>\n",
              "    </tr>\n",
              "    <tr>\n",
              "      <th>39</th>\n",
              "      <td>IV</td>\n",
              "      <td>8.0</td>\n",
              "      <td>5.25</td>\n",
              "    </tr>\n",
              "    <tr>\n",
              "      <th>40</th>\n",
              "      <td>IV</td>\n",
              "      <td>19.0</td>\n",
              "      <td>12.50</td>\n",
              "    </tr>\n",
              "    <tr>\n",
              "      <th>41</th>\n",
              "      <td>IV</td>\n",
              "      <td>8.0</td>\n",
              "      <td>5.56</td>\n",
              "    </tr>\n",
              "    <tr>\n",
              "      <th>42</th>\n",
              "      <td>IV</td>\n",
              "      <td>8.0</td>\n",
              "      <td>7.91</td>\n",
              "    </tr>\n",
              "    <tr>\n",
              "      <th>43</th>\n",
              "      <td>IV</td>\n",
              "      <td>8.0</td>\n",
              "      <td>6.89</td>\n",
              "    </tr>\n",
              "  </tbody>\n",
              "</table>\n",
              "</div>\n",
              "    <div class=\"colab-df-buttons\">\n",
              "\n",
              "  <div class=\"colab-df-container\">\n",
              "    <button class=\"colab-df-convert\" onclick=\"convertToInteractive('df-01e133b5-1b14-4a46-9365-c45050985336')\"\n",
              "            title=\"Convert this dataframe to an interactive table.\"\n",
              "            style=\"display:none;\">\n",
              "\n",
              "  <svg xmlns=\"http://www.w3.org/2000/svg\" height=\"24px\" viewBox=\"0 -960 960 960\">\n",
              "    <path d=\"M120-120v-720h720v720H120Zm60-500h600v-160H180v160Zm220 220h160v-160H400v160Zm0 220h160v-160H400v160ZM180-400h160v-160H180v160Zm440 0h160v-160H620v160ZM180-180h160v-160H180v160Zm440 0h160v-160H620v160Z\"/>\n",
              "  </svg>\n",
              "    </button>\n",
              "\n",
              "  <style>\n",
              "    .colab-df-container {\n",
              "      display:flex;\n",
              "      gap: 12px;\n",
              "    }\n",
              "\n",
              "    .colab-df-convert {\n",
              "      background-color: #E8F0FE;\n",
              "      border: none;\n",
              "      border-radius: 50%;\n",
              "      cursor: pointer;\n",
              "      display: none;\n",
              "      fill: #1967D2;\n",
              "      height: 32px;\n",
              "      padding: 0 0 0 0;\n",
              "      width: 32px;\n",
              "    }\n",
              "\n",
              "    .colab-df-convert:hover {\n",
              "      background-color: #E2EBFA;\n",
              "      box-shadow: 0px 1px 2px rgba(60, 64, 67, 0.3), 0px 1px 3px 1px rgba(60, 64, 67, 0.15);\n",
              "      fill: #174EA6;\n",
              "    }\n",
              "\n",
              "    .colab-df-buttons div {\n",
              "      margin-bottom: 4px;\n",
              "    }\n",
              "\n",
              "    [theme=dark] .colab-df-convert {\n",
              "      background-color: #3B4455;\n",
              "      fill: #D2E3FC;\n",
              "    }\n",
              "\n",
              "    [theme=dark] .colab-df-convert:hover {\n",
              "      background-color: #434B5C;\n",
              "      box-shadow: 0px 1px 3px 1px rgba(0, 0, 0, 0.15);\n",
              "      filter: drop-shadow(0px 1px 2px rgba(0, 0, 0, 0.3));\n",
              "      fill: #FFFFFF;\n",
              "    }\n",
              "  </style>\n",
              "\n",
              "    <script>\n",
              "      const buttonEl =\n",
              "        document.querySelector('#df-01e133b5-1b14-4a46-9365-c45050985336 button.colab-df-convert');\n",
              "      buttonEl.style.display =\n",
              "        google.colab.kernel.accessAllowed ? 'block' : 'none';\n",
              "\n",
              "      async function convertToInteractive(key) {\n",
              "        const element = document.querySelector('#df-01e133b5-1b14-4a46-9365-c45050985336');\n",
              "        const dataTable =\n",
              "          await google.colab.kernel.invokeFunction('convertToInteractive',\n",
              "                                                    [key], {});\n",
              "        if (!dataTable) return;\n",
              "\n",
              "        const docLinkHtml = 'Like what you see? Visit the ' +\n",
              "          '<a target=\"_blank\" href=https://colab.research.google.com/notebooks/data_table.ipynb>data table notebook</a>'\n",
              "          + ' to learn more about interactive tables.';\n",
              "        element.innerHTML = '';\n",
              "        dataTable['output_type'] = 'display_data';\n",
              "        await google.colab.output.renderOutput(dataTable, element);\n",
              "        const docLink = document.createElement('div');\n",
              "        docLink.innerHTML = docLinkHtml;\n",
              "        element.appendChild(docLink);\n",
              "      }\n",
              "    </script>\n",
              "  </div>\n",
              "\n",
              "\n",
              "<div id=\"df-2d8e4855-1dcf-45bb-8acb-a9c7157e2b13\">\n",
              "  <button class=\"colab-df-quickchart\" onclick=\"quickchart('df-2d8e4855-1dcf-45bb-8acb-a9c7157e2b13')\"\n",
              "            title=\"Suggest charts\"\n",
              "            style=\"display:none;\">\n",
              "\n",
              "<svg xmlns=\"http://www.w3.org/2000/svg\" height=\"24px\"viewBox=\"0 0 24 24\"\n",
              "     width=\"24px\">\n",
              "    <g>\n",
              "        <path d=\"M19 3H5c-1.1 0-2 .9-2 2v14c0 1.1.9 2 2 2h14c1.1 0 2-.9 2-2V5c0-1.1-.9-2-2-2zM9 17H7v-7h2v7zm4 0h-2V7h2v10zm4 0h-2v-4h2v4z\"/>\n",
              "    </g>\n",
              "</svg>\n",
              "  </button>\n",
              "\n",
              "<style>\n",
              "  .colab-df-quickchart {\n",
              "      --bg-color: #E8F0FE;\n",
              "      --fill-color: #1967D2;\n",
              "      --hover-bg-color: #E2EBFA;\n",
              "      --hover-fill-color: #174EA6;\n",
              "      --disabled-fill-color: #AAA;\n",
              "      --disabled-bg-color: #DDD;\n",
              "  }\n",
              "\n",
              "  [theme=dark] .colab-df-quickchart {\n",
              "      --bg-color: #3B4455;\n",
              "      --fill-color: #D2E3FC;\n",
              "      --hover-bg-color: #434B5C;\n",
              "      --hover-fill-color: #FFFFFF;\n",
              "      --disabled-bg-color: #3B4455;\n",
              "      --disabled-fill-color: #666;\n",
              "  }\n",
              "\n",
              "  .colab-df-quickchart {\n",
              "    background-color: var(--bg-color);\n",
              "    border: none;\n",
              "    border-radius: 50%;\n",
              "    cursor: pointer;\n",
              "    display: none;\n",
              "    fill: var(--fill-color);\n",
              "    height: 32px;\n",
              "    padding: 0;\n",
              "    width: 32px;\n",
              "  }\n",
              "\n",
              "  .colab-df-quickchart:hover {\n",
              "    background-color: var(--hover-bg-color);\n",
              "    box-shadow: 0 1px 2px rgba(60, 64, 67, 0.3), 0 1px 3px 1px rgba(60, 64, 67, 0.15);\n",
              "    fill: var(--button-hover-fill-color);\n",
              "  }\n",
              "\n",
              "  .colab-df-quickchart-complete:disabled,\n",
              "  .colab-df-quickchart-complete:disabled:hover {\n",
              "    background-color: var(--disabled-bg-color);\n",
              "    fill: var(--disabled-fill-color);\n",
              "    box-shadow: none;\n",
              "  }\n",
              "\n",
              "  .colab-df-spinner {\n",
              "    border: 2px solid var(--fill-color);\n",
              "    border-color: transparent;\n",
              "    border-bottom-color: var(--fill-color);\n",
              "    animation:\n",
              "      spin 1s steps(1) infinite;\n",
              "  }\n",
              "\n",
              "  @keyframes spin {\n",
              "    0% {\n",
              "      border-color: transparent;\n",
              "      border-bottom-color: var(--fill-color);\n",
              "      border-left-color: var(--fill-color);\n",
              "    }\n",
              "    20% {\n",
              "      border-color: transparent;\n",
              "      border-left-color: var(--fill-color);\n",
              "      border-top-color: var(--fill-color);\n",
              "    }\n",
              "    30% {\n",
              "      border-color: transparent;\n",
              "      border-left-color: var(--fill-color);\n",
              "      border-top-color: var(--fill-color);\n",
              "      border-right-color: var(--fill-color);\n",
              "    }\n",
              "    40% {\n",
              "      border-color: transparent;\n",
              "      border-right-color: var(--fill-color);\n",
              "      border-top-color: var(--fill-color);\n",
              "    }\n",
              "    60% {\n",
              "      border-color: transparent;\n",
              "      border-right-color: var(--fill-color);\n",
              "    }\n",
              "    80% {\n",
              "      border-color: transparent;\n",
              "      border-right-color: var(--fill-color);\n",
              "      border-bottom-color: var(--fill-color);\n",
              "    }\n",
              "    90% {\n",
              "      border-color: transparent;\n",
              "      border-bottom-color: var(--fill-color);\n",
              "    }\n",
              "  }\n",
              "</style>\n",
              "\n",
              "  <script>\n",
              "    async function quickchart(key) {\n",
              "      const quickchartButtonEl =\n",
              "        document.querySelector('#' + key + ' button');\n",
              "      quickchartButtonEl.disabled = true;  // To prevent multiple clicks.\n",
              "      quickchartButtonEl.classList.add('colab-df-spinner');\n",
              "      try {\n",
              "        const charts = await google.colab.kernel.invokeFunction(\n",
              "            'suggestCharts', [key], {});\n",
              "      } catch (error) {\n",
              "        console.error('Error during call to suggestCharts:', error);\n",
              "      }\n",
              "      quickchartButtonEl.classList.remove('colab-df-spinner');\n",
              "      quickchartButtonEl.classList.add('colab-df-quickchart-complete');\n",
              "    }\n",
              "    (() => {\n",
              "      let quickchartButtonEl =\n",
              "        document.querySelector('#df-2d8e4855-1dcf-45bb-8acb-a9c7157e2b13 button');\n",
              "      quickchartButtonEl.style.display =\n",
              "        google.colab.kernel.accessAllowed ? 'block' : 'none';\n",
              "    })();\n",
              "  </script>\n",
              "</div>\n",
              "\n",
              "  <div id=\"id_d6da61be-8c99-476d-bf28-59dc8a82c541\">\n",
              "    <style>\n",
              "      .colab-df-generate {\n",
              "        background-color: #E8F0FE;\n",
              "        border: none;\n",
              "        border-radius: 50%;\n",
              "        cursor: pointer;\n",
              "        display: none;\n",
              "        fill: #1967D2;\n",
              "        height: 32px;\n",
              "        padding: 0 0 0 0;\n",
              "        width: 32px;\n",
              "      }\n",
              "\n",
              "      .colab-df-generate:hover {\n",
              "        background-color: #E2EBFA;\n",
              "        box-shadow: 0px 1px 2px rgba(60, 64, 67, 0.3), 0px 1px 3px 1px rgba(60, 64, 67, 0.15);\n",
              "        fill: #174EA6;\n",
              "      }\n",
              "\n",
              "      [theme=dark] .colab-df-generate {\n",
              "        background-color: #3B4455;\n",
              "        fill: #D2E3FC;\n",
              "      }\n",
              "\n",
              "      [theme=dark] .colab-df-generate:hover {\n",
              "        background-color: #434B5C;\n",
              "        box-shadow: 0px 1px 3px 1px rgba(0, 0, 0, 0.15);\n",
              "        filter: drop-shadow(0px 1px 2px rgba(0, 0, 0, 0.3));\n",
              "        fill: #FFFFFF;\n",
              "      }\n",
              "    </style>\n",
              "    <button class=\"colab-df-generate\" onclick=\"generateWithVariable('df')\"\n",
              "            title=\"Generate code using this dataframe.\"\n",
              "            style=\"display:none;\">\n",
              "\n",
              "  <svg xmlns=\"http://www.w3.org/2000/svg\" height=\"24px\"viewBox=\"0 0 24 24\"\n",
              "       width=\"24px\">\n",
              "    <path d=\"M7,19H8.4L18.45,9,17,7.55,7,17.6ZM5,21V16.75L18.45,3.32a2,2,0,0,1,2.83,0l1.4,1.43a1.91,1.91,0,0,1,.58,1.4,1.91,1.91,0,0,1-.58,1.4L9.25,21ZM18.45,9,17,7.55Zm-12,3A5.31,5.31,0,0,0,4.9,8.1,5.31,5.31,0,0,0,1,6.5,5.31,5.31,0,0,0,4.9,4.9,5.31,5.31,0,0,0,6.5,1,5.31,5.31,0,0,0,8.1,4.9,5.31,5.31,0,0,0,12,6.5,5.46,5.46,0,0,0,6.5,12Z\"/>\n",
              "  </svg>\n",
              "    </button>\n",
              "    <script>\n",
              "      (() => {\n",
              "      const buttonEl =\n",
              "        document.querySelector('#id_d6da61be-8c99-476d-bf28-59dc8a82c541 button.colab-df-generate');\n",
              "      buttonEl.style.display =\n",
              "        google.colab.kernel.accessAllowed ? 'block' : 'none';\n",
              "\n",
              "      buttonEl.onclick = () => {\n",
              "        google.colab.notebook.generateWithVariable('df');\n",
              "      }\n",
              "      })();\n",
              "    </script>\n",
              "  </div>\n",
              "\n",
              "    </div>\n",
              "  </div>\n"
            ]
          },
          "metadata": {},
          "execution_count": 52
        }
      ]
    },
    {
      "cell_type": "markdown",
      "metadata": {
        "id": "VG8b-xGk5wfy"
      },
      "source": [
        "En nuestra tabla tenemos 4 columnas. La primera columna se llama \"_index_\" y sólo enumera los datos. El resto de las columnas son específicas para el conjunto de datos que elegimos."
      ]
    },
    {
      "cell_type": "markdown",
      "metadata": {
        "id": "M_O8d04JwfFw"
      },
      "source": [
        "En programación, cualquier valor, función o *dataframe* se llama **objeto**, y cada objeto tiene una **clase**. Los DataFrames son un tipo de \"clase\", esencialmente porque se puede hacer el mismo tipo de cosas con todos los *dataframes*.\n",
        "\n",
        "Podemos decir que cada vez que llamamos la función `type()` a cualquier objeto de Python estamos preguntando por su clase:\n"
      ]
    },
    {
      "cell_type": "code",
      "metadata": {
        "id": "DBF2kVvDu3ne",
        "colab": {
          "base_uri": "https://localhost:8080/"
        },
        "outputId": "09cfaf35-49a0-49c7-b276-558368ca0b52"
      },
      "source": [
        "type(df)"
      ],
      "execution_count": null,
      "outputs": [
        {
          "output_type": "execute_result",
          "data": {
            "text/plain": [
              "pandas.core.frame.DataFrame"
            ]
          },
          "metadata": {},
          "execution_count": 53
        }
      ]
    },
    {
      "cell_type": "markdown",
      "metadata": {
        "id": "lWJ9AJMw28Fd"
      },
      "source": [
        "Las clases incorporan información sobre el comportamiento. La información sobre comportamiento está contenida en **métodos**. En este sentido, las columnas son un método de la clase *dataframe*.\n"
      ]
    },
    {
      "cell_type": "markdown",
      "metadata": {
        "id": "4bEgaAtmqqYu"
      },
      "source": [
        "Mostrar columnas\n",
        "\n",
        "---\n",
        "Algunas funciones integradas de Pandas nos permiten visualizar ciertas características de nuestro *dataframe*, por ejemplo, la función `columns` imprime las etiquetas (labels) de todas las columnas existentes en la tabla.\n",
        "\n",
        "\n",
        "\n"
      ]
    },
    {
      "cell_type": "code",
      "metadata": {
        "id": "KEOcj-OIqsPr",
        "colab": {
          "base_uri": "https://localhost:8080/"
        },
        "outputId": "d5e44788-2a8a-4627-d3cc-ebb67a85f1dd"
      },
      "source": [
        "#La función columns nos imprime el nombre de todas las columnas de la tabla.\n",
        "df.columns"
      ],
      "execution_count": null,
      "outputs": [
        {
          "output_type": "execute_result",
          "data": {
            "text/plain": [
              "Index(['dataset', 'x', 'y'], dtype='object')"
            ]
          },
          "metadata": {},
          "execution_count": 54
        }
      ]
    },
    {
      "cell_type": "markdown",
      "metadata": {
        "id": "49SjG4MxsTU5"
      },
      "source": [
        "También podemos trasponer filas y columnas usando:"
      ]
    },
    {
      "cell_type": "code",
      "metadata": {
        "id": "KzqXDDbzsTfY",
        "colab": {
          "base_uri": "https://localhost:8080/",
          "height": 173
        },
        "outputId": "5472b3bb-226f-426d-a29d-0f76a623d377"
      },
      "source": [
        "df.T"
      ],
      "execution_count": null,
      "outputs": [
        {
          "output_type": "execute_result",
          "data": {
            "text/plain": [
              "           0     1     2     3     4     5     6     7      8     9   ...  \\\n",
              "dataset     I     I     I     I     I     I     I     I      I     I  ...   \n",
              "x        10.0   8.0  13.0   9.0  11.0  14.0   6.0   4.0   12.0   7.0  ...   \n",
              "y        8.04  6.95  7.58  8.81  8.33  9.96  7.24  4.26  10.84  4.82  ...   \n",
              "\n",
              "           34    35    36    37    38    39    40    41    42    43  \n",
              "dataset    IV    IV    IV    IV    IV    IV    IV    IV    IV    IV  \n",
              "x         8.0   8.0   8.0   8.0   8.0   8.0  19.0   8.0   8.0   8.0  \n",
              "y        5.76  7.71  8.84  8.47  7.04  5.25  12.5  5.56  7.91  6.89  \n",
              "\n",
              "[3 rows x 44 columns]"
            ],
            "text/html": [
              "\n",
              "  <div id=\"df-793a5aef-1bf3-4b03-bf87-01e1ae40f521\" class=\"colab-df-container\">\n",
              "    <div>\n",
              "<style scoped>\n",
              "    .dataframe tbody tr th:only-of-type {\n",
              "        vertical-align: middle;\n",
              "    }\n",
              "\n",
              "    .dataframe tbody tr th {\n",
              "        vertical-align: top;\n",
              "    }\n",
              "\n",
              "    .dataframe thead th {\n",
              "        text-align: right;\n",
              "    }\n",
              "</style>\n",
              "<table border=\"1\" class=\"dataframe\">\n",
              "  <thead>\n",
              "    <tr style=\"text-align: right;\">\n",
              "      <th></th>\n",
              "      <th>0</th>\n",
              "      <th>1</th>\n",
              "      <th>2</th>\n",
              "      <th>3</th>\n",
              "      <th>4</th>\n",
              "      <th>5</th>\n",
              "      <th>6</th>\n",
              "      <th>7</th>\n",
              "      <th>8</th>\n",
              "      <th>9</th>\n",
              "      <th>...</th>\n",
              "      <th>34</th>\n",
              "      <th>35</th>\n",
              "      <th>36</th>\n",
              "      <th>37</th>\n",
              "      <th>38</th>\n",
              "      <th>39</th>\n",
              "      <th>40</th>\n",
              "      <th>41</th>\n",
              "      <th>42</th>\n",
              "      <th>43</th>\n",
              "    </tr>\n",
              "  </thead>\n",
              "  <tbody>\n",
              "    <tr>\n",
              "      <th>dataset</th>\n",
              "      <td>I</td>\n",
              "      <td>I</td>\n",
              "      <td>I</td>\n",
              "      <td>I</td>\n",
              "      <td>I</td>\n",
              "      <td>I</td>\n",
              "      <td>I</td>\n",
              "      <td>I</td>\n",
              "      <td>I</td>\n",
              "      <td>I</td>\n",
              "      <td>...</td>\n",
              "      <td>IV</td>\n",
              "      <td>IV</td>\n",
              "      <td>IV</td>\n",
              "      <td>IV</td>\n",
              "      <td>IV</td>\n",
              "      <td>IV</td>\n",
              "      <td>IV</td>\n",
              "      <td>IV</td>\n",
              "      <td>IV</td>\n",
              "      <td>IV</td>\n",
              "    </tr>\n",
              "    <tr>\n",
              "      <th>x</th>\n",
              "      <td>10.0</td>\n",
              "      <td>8.0</td>\n",
              "      <td>13.0</td>\n",
              "      <td>9.0</td>\n",
              "      <td>11.0</td>\n",
              "      <td>14.0</td>\n",
              "      <td>6.0</td>\n",
              "      <td>4.0</td>\n",
              "      <td>12.0</td>\n",
              "      <td>7.0</td>\n",
              "      <td>...</td>\n",
              "      <td>8.0</td>\n",
              "      <td>8.0</td>\n",
              "      <td>8.0</td>\n",
              "      <td>8.0</td>\n",
              "      <td>8.0</td>\n",
              "      <td>8.0</td>\n",
              "      <td>19.0</td>\n",
              "      <td>8.0</td>\n",
              "      <td>8.0</td>\n",
              "      <td>8.0</td>\n",
              "    </tr>\n",
              "    <tr>\n",
              "      <th>y</th>\n",
              "      <td>8.04</td>\n",
              "      <td>6.95</td>\n",
              "      <td>7.58</td>\n",
              "      <td>8.81</td>\n",
              "      <td>8.33</td>\n",
              "      <td>9.96</td>\n",
              "      <td>7.24</td>\n",
              "      <td>4.26</td>\n",
              "      <td>10.84</td>\n",
              "      <td>4.82</td>\n",
              "      <td>...</td>\n",
              "      <td>5.76</td>\n",
              "      <td>7.71</td>\n",
              "      <td>8.84</td>\n",
              "      <td>8.47</td>\n",
              "      <td>7.04</td>\n",
              "      <td>5.25</td>\n",
              "      <td>12.5</td>\n",
              "      <td>5.56</td>\n",
              "      <td>7.91</td>\n",
              "      <td>6.89</td>\n",
              "    </tr>\n",
              "  </tbody>\n",
              "</table>\n",
              "<p>3 rows × 44 columns</p>\n",
              "</div>\n",
              "    <div class=\"colab-df-buttons\">\n",
              "\n",
              "  <div class=\"colab-df-container\">\n",
              "    <button class=\"colab-df-convert\" onclick=\"convertToInteractive('df-793a5aef-1bf3-4b03-bf87-01e1ae40f521')\"\n",
              "            title=\"Convert this dataframe to an interactive table.\"\n",
              "            style=\"display:none;\">\n",
              "\n",
              "  <svg xmlns=\"http://www.w3.org/2000/svg\" height=\"24px\" viewBox=\"0 -960 960 960\">\n",
              "    <path d=\"M120-120v-720h720v720H120Zm60-500h600v-160H180v160Zm220 220h160v-160H400v160Zm0 220h160v-160H400v160ZM180-400h160v-160H180v160Zm440 0h160v-160H620v160ZM180-180h160v-160H180v160Zm440 0h160v-160H620v160Z\"/>\n",
              "  </svg>\n",
              "    </button>\n",
              "\n",
              "  <style>\n",
              "    .colab-df-container {\n",
              "      display:flex;\n",
              "      gap: 12px;\n",
              "    }\n",
              "\n",
              "    .colab-df-convert {\n",
              "      background-color: #E8F0FE;\n",
              "      border: none;\n",
              "      border-radius: 50%;\n",
              "      cursor: pointer;\n",
              "      display: none;\n",
              "      fill: #1967D2;\n",
              "      height: 32px;\n",
              "      padding: 0 0 0 0;\n",
              "      width: 32px;\n",
              "    }\n",
              "\n",
              "    .colab-df-convert:hover {\n",
              "      background-color: #E2EBFA;\n",
              "      box-shadow: 0px 1px 2px rgba(60, 64, 67, 0.3), 0px 1px 3px 1px rgba(60, 64, 67, 0.15);\n",
              "      fill: #174EA6;\n",
              "    }\n",
              "\n",
              "    .colab-df-buttons div {\n",
              "      margin-bottom: 4px;\n",
              "    }\n",
              "\n",
              "    [theme=dark] .colab-df-convert {\n",
              "      background-color: #3B4455;\n",
              "      fill: #D2E3FC;\n",
              "    }\n",
              "\n",
              "    [theme=dark] .colab-df-convert:hover {\n",
              "      background-color: #434B5C;\n",
              "      box-shadow: 0px 1px 3px 1px rgba(0, 0, 0, 0.15);\n",
              "      filter: drop-shadow(0px 1px 2px rgba(0, 0, 0, 0.3));\n",
              "      fill: #FFFFFF;\n",
              "    }\n",
              "  </style>\n",
              "\n",
              "    <script>\n",
              "      const buttonEl =\n",
              "        document.querySelector('#df-793a5aef-1bf3-4b03-bf87-01e1ae40f521 button.colab-df-convert');\n",
              "      buttonEl.style.display =\n",
              "        google.colab.kernel.accessAllowed ? 'block' : 'none';\n",
              "\n",
              "      async function convertToInteractive(key) {\n",
              "        const element = document.querySelector('#df-793a5aef-1bf3-4b03-bf87-01e1ae40f521');\n",
              "        const dataTable =\n",
              "          await google.colab.kernel.invokeFunction('convertToInteractive',\n",
              "                                                    [key], {});\n",
              "        if (!dataTable) return;\n",
              "\n",
              "        const docLinkHtml = 'Like what you see? Visit the ' +\n",
              "          '<a target=\"_blank\" href=https://colab.research.google.com/notebooks/data_table.ipynb>data table notebook</a>'\n",
              "          + ' to learn more about interactive tables.';\n",
              "        element.innerHTML = '';\n",
              "        dataTable['output_type'] = 'display_data';\n",
              "        await google.colab.output.renderOutput(dataTable, element);\n",
              "        const docLink = document.createElement('div');\n",
              "        docLink.innerHTML = docLinkHtml;\n",
              "        element.appendChild(docLink);\n",
              "      }\n",
              "    </script>\n",
              "  </div>\n",
              "\n",
              "\n",
              "<div id=\"df-9a3bc5e7-3107-49f7-bdc7-3d359256dd02\">\n",
              "  <button class=\"colab-df-quickchart\" onclick=\"quickchart('df-9a3bc5e7-3107-49f7-bdc7-3d359256dd02')\"\n",
              "            title=\"Suggest charts\"\n",
              "            style=\"display:none;\">\n",
              "\n",
              "<svg xmlns=\"http://www.w3.org/2000/svg\" height=\"24px\"viewBox=\"0 0 24 24\"\n",
              "     width=\"24px\">\n",
              "    <g>\n",
              "        <path d=\"M19 3H5c-1.1 0-2 .9-2 2v14c0 1.1.9 2 2 2h14c1.1 0 2-.9 2-2V5c0-1.1-.9-2-2-2zM9 17H7v-7h2v7zm4 0h-2V7h2v10zm4 0h-2v-4h2v4z\"/>\n",
              "    </g>\n",
              "</svg>\n",
              "  </button>\n",
              "\n",
              "<style>\n",
              "  .colab-df-quickchart {\n",
              "      --bg-color: #E8F0FE;\n",
              "      --fill-color: #1967D2;\n",
              "      --hover-bg-color: #E2EBFA;\n",
              "      --hover-fill-color: #174EA6;\n",
              "      --disabled-fill-color: #AAA;\n",
              "      --disabled-bg-color: #DDD;\n",
              "  }\n",
              "\n",
              "  [theme=dark] .colab-df-quickchart {\n",
              "      --bg-color: #3B4455;\n",
              "      --fill-color: #D2E3FC;\n",
              "      --hover-bg-color: #434B5C;\n",
              "      --hover-fill-color: #FFFFFF;\n",
              "      --disabled-bg-color: #3B4455;\n",
              "      --disabled-fill-color: #666;\n",
              "  }\n",
              "\n",
              "  .colab-df-quickchart {\n",
              "    background-color: var(--bg-color);\n",
              "    border: none;\n",
              "    border-radius: 50%;\n",
              "    cursor: pointer;\n",
              "    display: none;\n",
              "    fill: var(--fill-color);\n",
              "    height: 32px;\n",
              "    padding: 0;\n",
              "    width: 32px;\n",
              "  }\n",
              "\n",
              "  .colab-df-quickchart:hover {\n",
              "    background-color: var(--hover-bg-color);\n",
              "    box-shadow: 0 1px 2px rgba(60, 64, 67, 0.3), 0 1px 3px 1px rgba(60, 64, 67, 0.15);\n",
              "    fill: var(--button-hover-fill-color);\n",
              "  }\n",
              "\n",
              "  .colab-df-quickchart-complete:disabled,\n",
              "  .colab-df-quickchart-complete:disabled:hover {\n",
              "    background-color: var(--disabled-bg-color);\n",
              "    fill: var(--disabled-fill-color);\n",
              "    box-shadow: none;\n",
              "  }\n",
              "\n",
              "  .colab-df-spinner {\n",
              "    border: 2px solid var(--fill-color);\n",
              "    border-color: transparent;\n",
              "    border-bottom-color: var(--fill-color);\n",
              "    animation:\n",
              "      spin 1s steps(1) infinite;\n",
              "  }\n",
              "\n",
              "  @keyframes spin {\n",
              "    0% {\n",
              "      border-color: transparent;\n",
              "      border-bottom-color: var(--fill-color);\n",
              "      border-left-color: var(--fill-color);\n",
              "    }\n",
              "    20% {\n",
              "      border-color: transparent;\n",
              "      border-left-color: var(--fill-color);\n",
              "      border-top-color: var(--fill-color);\n",
              "    }\n",
              "    30% {\n",
              "      border-color: transparent;\n",
              "      border-left-color: var(--fill-color);\n",
              "      border-top-color: var(--fill-color);\n",
              "      border-right-color: var(--fill-color);\n",
              "    }\n",
              "    40% {\n",
              "      border-color: transparent;\n",
              "      border-right-color: var(--fill-color);\n",
              "      border-top-color: var(--fill-color);\n",
              "    }\n",
              "    60% {\n",
              "      border-color: transparent;\n",
              "      border-right-color: var(--fill-color);\n",
              "    }\n",
              "    80% {\n",
              "      border-color: transparent;\n",
              "      border-right-color: var(--fill-color);\n",
              "      border-bottom-color: var(--fill-color);\n",
              "    }\n",
              "    90% {\n",
              "      border-color: transparent;\n",
              "      border-bottom-color: var(--fill-color);\n",
              "    }\n",
              "  }\n",
              "</style>\n",
              "\n",
              "  <script>\n",
              "    async function quickchart(key) {\n",
              "      const quickchartButtonEl =\n",
              "        document.querySelector('#' + key + ' button');\n",
              "      quickchartButtonEl.disabled = true;  // To prevent multiple clicks.\n",
              "      quickchartButtonEl.classList.add('colab-df-spinner');\n",
              "      try {\n",
              "        const charts = await google.colab.kernel.invokeFunction(\n",
              "            'suggestCharts', [key], {});\n",
              "      } catch (error) {\n",
              "        console.error('Error during call to suggestCharts:', error);\n",
              "      }\n",
              "      quickchartButtonEl.classList.remove('colab-df-spinner');\n",
              "      quickchartButtonEl.classList.add('colab-df-quickchart-complete');\n",
              "    }\n",
              "    (() => {\n",
              "      let quickchartButtonEl =\n",
              "        document.querySelector('#df-9a3bc5e7-3107-49f7-bdc7-3d359256dd02 button');\n",
              "      quickchartButtonEl.style.display =\n",
              "        google.colab.kernel.accessAllowed ? 'block' : 'none';\n",
              "    })();\n",
              "  </script>\n",
              "</div>\n",
              "\n",
              "    </div>\n",
              "  </div>\n"
            ]
          },
          "metadata": {},
          "execution_count": 55
        }
      ]
    },
    {
      "cell_type": "markdown",
      "metadata": {
        "id": "XxWuC1WxsiBz"
      },
      "source": [
        "\n",
        "Si quisiéramos  ordenar los valores numéricos según un criterio determinado, podemos utilizar la función `sort_values()`. Debemos tener en cuenta que tenemos que especificar qué valores en qué columnas queremos ordenar. Con el parámetro \"`ascending`\" o \"`descending`\" podemos especificar si queremos ordenarlos en orden ascendente o descendente.\n",
        "\n",
        " Esta función, como cualquier otra, tiene parámetros adicionales que podemos cambiar según nuestro gusto o necesidades, por ejemplo, el parámetro `ascending` es \"_True_\" por defecto. Si no lo especificamos, permanecerá como \"_True_\", pero si lo necesitamos, podríamos cambiarlo a \"_False_\".\n",
        "\n",
        " En este caso, ordenaremos los valores de la columna \"x\" en orden ascendente:\n"
      ]
    },
    {
      "cell_type": "code",
      "metadata": {
        "id": "2IdZ109jsiJR",
        "colab": {
          "base_uri": "https://localhost:8080/",
          "height": 1000
        },
        "outputId": "00d43a2e-cebc-4ddd-f8ec-3c1446448da4"
      },
      "source": [
        "df.sort_values(by='x',ascending = True)"
      ],
      "execution_count": null,
      "outputs": [
        {
          "output_type": "execute_result",
          "data": {
            "text/plain": [
              "   dataset     x      y\n",
              "18      II   4.0   3.10\n",
              "29     III   4.0   5.39\n",
              "7        I   4.0   4.26\n",
              "21      II   5.0   4.74\n",
              "32     III   5.0   5.73\n",
              "10       I   5.0   5.68\n",
              "6        I   6.0   7.24\n",
              "28     III   6.0   6.08\n",
              "17      II   6.0   6.13\n",
              "9        I   7.0   4.82\n",
              "31     III   7.0   6.42\n",
              "20      II   7.0   7.26\n",
              "37      IV   8.0   8.47\n",
              "35      IV   8.0   7.71\n",
              "23     III   8.0   6.77\n",
              "34      IV   8.0   5.76\n",
              "33      IV   8.0   6.58\n",
              "38      IV   8.0   7.04\n",
              "39      IV   8.0   5.25\n",
              "41      IV   8.0   5.56\n",
              "36      IV   8.0   8.84\n",
              "43      IV   8.0   6.89\n",
              "1        I   8.0   6.95\n",
              "12      II   8.0   8.14\n",
              "42      IV   8.0   7.91\n",
              "3        I   9.0   8.81\n",
              "25     III   9.0   7.11\n",
              "14      II   9.0   8.77\n",
              "22     III  10.0   7.46\n",
              "11      II  10.0   9.14\n",
              "0        I  10.0   8.04\n",
              "15      II  11.0   9.26\n",
              "26     III  11.0   7.81\n",
              "4        I  11.0   8.33\n",
              "8        I  12.0  10.84\n",
              "19      II  12.0   9.13\n",
              "30     III  12.0   8.15\n",
              "24     III  13.0  12.74\n",
              "2        I  13.0   7.58\n",
              "13      II  13.0   8.74\n",
              "16      II  14.0   8.10\n",
              "27     III  14.0   8.84\n",
              "5        I  14.0   9.96\n",
              "40      IV  19.0  12.50"
            ],
            "text/html": [
              "\n",
              "  <div id=\"df-7c4383e0-18e7-49e9-8ce5-a9c36af3ffe9\" class=\"colab-df-container\">\n",
              "    <div>\n",
              "<style scoped>\n",
              "    .dataframe tbody tr th:only-of-type {\n",
              "        vertical-align: middle;\n",
              "    }\n",
              "\n",
              "    .dataframe tbody tr th {\n",
              "        vertical-align: top;\n",
              "    }\n",
              "\n",
              "    .dataframe thead th {\n",
              "        text-align: right;\n",
              "    }\n",
              "</style>\n",
              "<table border=\"1\" class=\"dataframe\">\n",
              "  <thead>\n",
              "    <tr style=\"text-align: right;\">\n",
              "      <th></th>\n",
              "      <th>dataset</th>\n",
              "      <th>x</th>\n",
              "      <th>y</th>\n",
              "    </tr>\n",
              "  </thead>\n",
              "  <tbody>\n",
              "    <tr>\n",
              "      <th>18</th>\n",
              "      <td>II</td>\n",
              "      <td>4.0</td>\n",
              "      <td>3.10</td>\n",
              "    </tr>\n",
              "    <tr>\n",
              "      <th>29</th>\n",
              "      <td>III</td>\n",
              "      <td>4.0</td>\n",
              "      <td>5.39</td>\n",
              "    </tr>\n",
              "    <tr>\n",
              "      <th>7</th>\n",
              "      <td>I</td>\n",
              "      <td>4.0</td>\n",
              "      <td>4.26</td>\n",
              "    </tr>\n",
              "    <tr>\n",
              "      <th>21</th>\n",
              "      <td>II</td>\n",
              "      <td>5.0</td>\n",
              "      <td>4.74</td>\n",
              "    </tr>\n",
              "    <tr>\n",
              "      <th>32</th>\n",
              "      <td>III</td>\n",
              "      <td>5.0</td>\n",
              "      <td>5.73</td>\n",
              "    </tr>\n",
              "    <tr>\n",
              "      <th>10</th>\n",
              "      <td>I</td>\n",
              "      <td>5.0</td>\n",
              "      <td>5.68</td>\n",
              "    </tr>\n",
              "    <tr>\n",
              "      <th>6</th>\n",
              "      <td>I</td>\n",
              "      <td>6.0</td>\n",
              "      <td>7.24</td>\n",
              "    </tr>\n",
              "    <tr>\n",
              "      <th>28</th>\n",
              "      <td>III</td>\n",
              "      <td>6.0</td>\n",
              "      <td>6.08</td>\n",
              "    </tr>\n",
              "    <tr>\n",
              "      <th>17</th>\n",
              "      <td>II</td>\n",
              "      <td>6.0</td>\n",
              "      <td>6.13</td>\n",
              "    </tr>\n",
              "    <tr>\n",
              "      <th>9</th>\n",
              "      <td>I</td>\n",
              "      <td>7.0</td>\n",
              "      <td>4.82</td>\n",
              "    </tr>\n",
              "    <tr>\n",
              "      <th>31</th>\n",
              "      <td>III</td>\n",
              "      <td>7.0</td>\n",
              "      <td>6.42</td>\n",
              "    </tr>\n",
              "    <tr>\n",
              "      <th>20</th>\n",
              "      <td>II</td>\n",
              "      <td>7.0</td>\n",
              "      <td>7.26</td>\n",
              "    </tr>\n",
              "    <tr>\n",
              "      <th>37</th>\n",
              "      <td>IV</td>\n",
              "      <td>8.0</td>\n",
              "      <td>8.47</td>\n",
              "    </tr>\n",
              "    <tr>\n",
              "      <th>35</th>\n",
              "      <td>IV</td>\n",
              "      <td>8.0</td>\n",
              "      <td>7.71</td>\n",
              "    </tr>\n",
              "    <tr>\n",
              "      <th>23</th>\n",
              "      <td>III</td>\n",
              "      <td>8.0</td>\n",
              "      <td>6.77</td>\n",
              "    </tr>\n",
              "    <tr>\n",
              "      <th>34</th>\n",
              "      <td>IV</td>\n",
              "      <td>8.0</td>\n",
              "      <td>5.76</td>\n",
              "    </tr>\n",
              "    <tr>\n",
              "      <th>33</th>\n",
              "      <td>IV</td>\n",
              "      <td>8.0</td>\n",
              "      <td>6.58</td>\n",
              "    </tr>\n",
              "    <tr>\n",
              "      <th>38</th>\n",
              "      <td>IV</td>\n",
              "      <td>8.0</td>\n",
              "      <td>7.04</td>\n",
              "    </tr>\n",
              "    <tr>\n",
              "      <th>39</th>\n",
              "      <td>IV</td>\n",
              "      <td>8.0</td>\n",
              "      <td>5.25</td>\n",
              "    </tr>\n",
              "    <tr>\n",
              "      <th>41</th>\n",
              "      <td>IV</td>\n",
              "      <td>8.0</td>\n",
              "      <td>5.56</td>\n",
              "    </tr>\n",
              "    <tr>\n",
              "      <th>36</th>\n",
              "      <td>IV</td>\n",
              "      <td>8.0</td>\n",
              "      <td>8.84</td>\n",
              "    </tr>\n",
              "    <tr>\n",
              "      <th>43</th>\n",
              "      <td>IV</td>\n",
              "      <td>8.0</td>\n",
              "      <td>6.89</td>\n",
              "    </tr>\n",
              "    <tr>\n",
              "      <th>1</th>\n",
              "      <td>I</td>\n",
              "      <td>8.0</td>\n",
              "      <td>6.95</td>\n",
              "    </tr>\n",
              "    <tr>\n",
              "      <th>12</th>\n",
              "      <td>II</td>\n",
              "      <td>8.0</td>\n",
              "      <td>8.14</td>\n",
              "    </tr>\n",
              "    <tr>\n",
              "      <th>42</th>\n",
              "      <td>IV</td>\n",
              "      <td>8.0</td>\n",
              "      <td>7.91</td>\n",
              "    </tr>\n",
              "    <tr>\n",
              "      <th>3</th>\n",
              "      <td>I</td>\n",
              "      <td>9.0</td>\n",
              "      <td>8.81</td>\n",
              "    </tr>\n",
              "    <tr>\n",
              "      <th>25</th>\n",
              "      <td>III</td>\n",
              "      <td>9.0</td>\n",
              "      <td>7.11</td>\n",
              "    </tr>\n",
              "    <tr>\n",
              "      <th>14</th>\n",
              "      <td>II</td>\n",
              "      <td>9.0</td>\n",
              "      <td>8.77</td>\n",
              "    </tr>\n",
              "    <tr>\n",
              "      <th>22</th>\n",
              "      <td>III</td>\n",
              "      <td>10.0</td>\n",
              "      <td>7.46</td>\n",
              "    </tr>\n",
              "    <tr>\n",
              "      <th>11</th>\n",
              "      <td>II</td>\n",
              "      <td>10.0</td>\n",
              "      <td>9.14</td>\n",
              "    </tr>\n",
              "    <tr>\n",
              "      <th>0</th>\n",
              "      <td>I</td>\n",
              "      <td>10.0</td>\n",
              "      <td>8.04</td>\n",
              "    </tr>\n",
              "    <tr>\n",
              "      <th>15</th>\n",
              "      <td>II</td>\n",
              "      <td>11.0</td>\n",
              "      <td>9.26</td>\n",
              "    </tr>\n",
              "    <tr>\n",
              "      <th>26</th>\n",
              "      <td>III</td>\n",
              "      <td>11.0</td>\n",
              "      <td>7.81</td>\n",
              "    </tr>\n",
              "    <tr>\n",
              "      <th>4</th>\n",
              "      <td>I</td>\n",
              "      <td>11.0</td>\n",
              "      <td>8.33</td>\n",
              "    </tr>\n",
              "    <tr>\n",
              "      <th>8</th>\n",
              "      <td>I</td>\n",
              "      <td>12.0</td>\n",
              "      <td>10.84</td>\n",
              "    </tr>\n",
              "    <tr>\n",
              "      <th>19</th>\n",
              "      <td>II</td>\n",
              "      <td>12.0</td>\n",
              "      <td>9.13</td>\n",
              "    </tr>\n",
              "    <tr>\n",
              "      <th>30</th>\n",
              "      <td>III</td>\n",
              "      <td>12.0</td>\n",
              "      <td>8.15</td>\n",
              "    </tr>\n",
              "    <tr>\n",
              "      <th>24</th>\n",
              "      <td>III</td>\n",
              "      <td>13.0</td>\n",
              "      <td>12.74</td>\n",
              "    </tr>\n",
              "    <tr>\n",
              "      <th>2</th>\n",
              "      <td>I</td>\n",
              "      <td>13.0</td>\n",
              "      <td>7.58</td>\n",
              "    </tr>\n",
              "    <tr>\n",
              "      <th>13</th>\n",
              "      <td>II</td>\n",
              "      <td>13.0</td>\n",
              "      <td>8.74</td>\n",
              "    </tr>\n",
              "    <tr>\n",
              "      <th>16</th>\n",
              "      <td>II</td>\n",
              "      <td>14.0</td>\n",
              "      <td>8.10</td>\n",
              "    </tr>\n",
              "    <tr>\n",
              "      <th>27</th>\n",
              "      <td>III</td>\n",
              "      <td>14.0</td>\n",
              "      <td>8.84</td>\n",
              "    </tr>\n",
              "    <tr>\n",
              "      <th>5</th>\n",
              "      <td>I</td>\n",
              "      <td>14.0</td>\n",
              "      <td>9.96</td>\n",
              "    </tr>\n",
              "    <tr>\n",
              "      <th>40</th>\n",
              "      <td>IV</td>\n",
              "      <td>19.0</td>\n",
              "      <td>12.50</td>\n",
              "    </tr>\n",
              "  </tbody>\n",
              "</table>\n",
              "</div>\n",
              "    <div class=\"colab-df-buttons\">\n",
              "\n",
              "  <div class=\"colab-df-container\">\n",
              "    <button class=\"colab-df-convert\" onclick=\"convertToInteractive('df-7c4383e0-18e7-49e9-8ce5-a9c36af3ffe9')\"\n",
              "            title=\"Convert this dataframe to an interactive table.\"\n",
              "            style=\"display:none;\">\n",
              "\n",
              "  <svg xmlns=\"http://www.w3.org/2000/svg\" height=\"24px\" viewBox=\"0 -960 960 960\">\n",
              "    <path d=\"M120-120v-720h720v720H120Zm60-500h600v-160H180v160Zm220 220h160v-160H400v160Zm0 220h160v-160H400v160ZM180-400h160v-160H180v160Zm440 0h160v-160H620v160ZM180-180h160v-160H180v160Zm440 0h160v-160H620v160Z\"/>\n",
              "  </svg>\n",
              "    </button>\n",
              "\n",
              "  <style>\n",
              "    .colab-df-container {\n",
              "      display:flex;\n",
              "      gap: 12px;\n",
              "    }\n",
              "\n",
              "    .colab-df-convert {\n",
              "      background-color: #E8F0FE;\n",
              "      border: none;\n",
              "      border-radius: 50%;\n",
              "      cursor: pointer;\n",
              "      display: none;\n",
              "      fill: #1967D2;\n",
              "      height: 32px;\n",
              "      padding: 0 0 0 0;\n",
              "      width: 32px;\n",
              "    }\n",
              "\n",
              "    .colab-df-convert:hover {\n",
              "      background-color: #E2EBFA;\n",
              "      box-shadow: 0px 1px 2px rgba(60, 64, 67, 0.3), 0px 1px 3px 1px rgba(60, 64, 67, 0.15);\n",
              "      fill: #174EA6;\n",
              "    }\n",
              "\n",
              "    .colab-df-buttons div {\n",
              "      margin-bottom: 4px;\n",
              "    }\n",
              "\n",
              "    [theme=dark] .colab-df-convert {\n",
              "      background-color: #3B4455;\n",
              "      fill: #D2E3FC;\n",
              "    }\n",
              "\n",
              "    [theme=dark] .colab-df-convert:hover {\n",
              "      background-color: #434B5C;\n",
              "      box-shadow: 0px 1px 3px 1px rgba(0, 0, 0, 0.15);\n",
              "      filter: drop-shadow(0px 1px 2px rgba(0, 0, 0, 0.3));\n",
              "      fill: #FFFFFF;\n",
              "    }\n",
              "  </style>\n",
              "\n",
              "    <script>\n",
              "      const buttonEl =\n",
              "        document.querySelector('#df-7c4383e0-18e7-49e9-8ce5-a9c36af3ffe9 button.colab-df-convert');\n",
              "      buttonEl.style.display =\n",
              "        google.colab.kernel.accessAllowed ? 'block' : 'none';\n",
              "\n",
              "      async function convertToInteractive(key) {\n",
              "        const element = document.querySelector('#df-7c4383e0-18e7-49e9-8ce5-a9c36af3ffe9');\n",
              "        const dataTable =\n",
              "          await google.colab.kernel.invokeFunction('convertToInteractive',\n",
              "                                                    [key], {});\n",
              "        if (!dataTable) return;\n",
              "\n",
              "        const docLinkHtml = 'Like what you see? Visit the ' +\n",
              "          '<a target=\"_blank\" href=https://colab.research.google.com/notebooks/data_table.ipynb>data table notebook</a>'\n",
              "          + ' to learn more about interactive tables.';\n",
              "        element.innerHTML = '';\n",
              "        dataTable['output_type'] = 'display_data';\n",
              "        await google.colab.output.renderOutput(dataTable, element);\n",
              "        const docLink = document.createElement('div');\n",
              "        docLink.innerHTML = docLinkHtml;\n",
              "        element.appendChild(docLink);\n",
              "      }\n",
              "    </script>\n",
              "  </div>\n",
              "\n",
              "\n",
              "<div id=\"df-c09ea7ae-11d6-4270-bfea-2c6c0d4d9cfe\">\n",
              "  <button class=\"colab-df-quickchart\" onclick=\"quickchart('df-c09ea7ae-11d6-4270-bfea-2c6c0d4d9cfe')\"\n",
              "            title=\"Suggest charts\"\n",
              "            style=\"display:none;\">\n",
              "\n",
              "<svg xmlns=\"http://www.w3.org/2000/svg\" height=\"24px\"viewBox=\"0 0 24 24\"\n",
              "     width=\"24px\">\n",
              "    <g>\n",
              "        <path d=\"M19 3H5c-1.1 0-2 .9-2 2v14c0 1.1.9 2 2 2h14c1.1 0 2-.9 2-2V5c0-1.1-.9-2-2-2zM9 17H7v-7h2v7zm4 0h-2V7h2v10zm4 0h-2v-4h2v4z\"/>\n",
              "    </g>\n",
              "</svg>\n",
              "  </button>\n",
              "\n",
              "<style>\n",
              "  .colab-df-quickchart {\n",
              "      --bg-color: #E8F0FE;\n",
              "      --fill-color: #1967D2;\n",
              "      --hover-bg-color: #E2EBFA;\n",
              "      --hover-fill-color: #174EA6;\n",
              "      --disabled-fill-color: #AAA;\n",
              "      --disabled-bg-color: #DDD;\n",
              "  }\n",
              "\n",
              "  [theme=dark] .colab-df-quickchart {\n",
              "      --bg-color: #3B4455;\n",
              "      --fill-color: #D2E3FC;\n",
              "      --hover-bg-color: #434B5C;\n",
              "      --hover-fill-color: #FFFFFF;\n",
              "      --disabled-bg-color: #3B4455;\n",
              "      --disabled-fill-color: #666;\n",
              "  }\n",
              "\n",
              "  .colab-df-quickchart {\n",
              "    background-color: var(--bg-color);\n",
              "    border: none;\n",
              "    border-radius: 50%;\n",
              "    cursor: pointer;\n",
              "    display: none;\n",
              "    fill: var(--fill-color);\n",
              "    height: 32px;\n",
              "    padding: 0;\n",
              "    width: 32px;\n",
              "  }\n",
              "\n",
              "  .colab-df-quickchart:hover {\n",
              "    background-color: var(--hover-bg-color);\n",
              "    box-shadow: 0 1px 2px rgba(60, 64, 67, 0.3), 0 1px 3px 1px rgba(60, 64, 67, 0.15);\n",
              "    fill: var(--button-hover-fill-color);\n",
              "  }\n",
              "\n",
              "  .colab-df-quickchart-complete:disabled,\n",
              "  .colab-df-quickchart-complete:disabled:hover {\n",
              "    background-color: var(--disabled-bg-color);\n",
              "    fill: var(--disabled-fill-color);\n",
              "    box-shadow: none;\n",
              "  }\n",
              "\n",
              "  .colab-df-spinner {\n",
              "    border: 2px solid var(--fill-color);\n",
              "    border-color: transparent;\n",
              "    border-bottom-color: var(--fill-color);\n",
              "    animation:\n",
              "      spin 1s steps(1) infinite;\n",
              "  }\n",
              "\n",
              "  @keyframes spin {\n",
              "    0% {\n",
              "      border-color: transparent;\n",
              "      border-bottom-color: var(--fill-color);\n",
              "      border-left-color: var(--fill-color);\n",
              "    }\n",
              "    20% {\n",
              "      border-color: transparent;\n",
              "      border-left-color: var(--fill-color);\n",
              "      border-top-color: var(--fill-color);\n",
              "    }\n",
              "    30% {\n",
              "      border-color: transparent;\n",
              "      border-left-color: var(--fill-color);\n",
              "      border-top-color: var(--fill-color);\n",
              "      border-right-color: var(--fill-color);\n",
              "    }\n",
              "    40% {\n",
              "      border-color: transparent;\n",
              "      border-right-color: var(--fill-color);\n",
              "      border-top-color: var(--fill-color);\n",
              "    }\n",
              "    60% {\n",
              "      border-color: transparent;\n",
              "      border-right-color: var(--fill-color);\n",
              "    }\n",
              "    80% {\n",
              "      border-color: transparent;\n",
              "      border-right-color: var(--fill-color);\n",
              "      border-bottom-color: var(--fill-color);\n",
              "    }\n",
              "    90% {\n",
              "      border-color: transparent;\n",
              "      border-bottom-color: var(--fill-color);\n",
              "    }\n",
              "  }\n",
              "</style>\n",
              "\n",
              "  <script>\n",
              "    async function quickchart(key) {\n",
              "      const quickchartButtonEl =\n",
              "        document.querySelector('#' + key + ' button');\n",
              "      quickchartButtonEl.disabled = true;  // To prevent multiple clicks.\n",
              "      quickchartButtonEl.classList.add('colab-df-spinner');\n",
              "      try {\n",
              "        const charts = await google.colab.kernel.invokeFunction(\n",
              "            'suggestCharts', [key], {});\n",
              "      } catch (error) {\n",
              "        console.error('Error during call to suggestCharts:', error);\n",
              "      }\n",
              "      quickchartButtonEl.classList.remove('colab-df-spinner');\n",
              "      quickchartButtonEl.classList.add('colab-df-quickchart-complete');\n",
              "    }\n",
              "    (() => {\n",
              "      let quickchartButtonEl =\n",
              "        document.querySelector('#df-c09ea7ae-11d6-4270-bfea-2c6c0d4d9cfe button');\n",
              "      quickchartButtonEl.style.display =\n",
              "        google.colab.kernel.accessAllowed ? 'block' : 'none';\n",
              "    })();\n",
              "  </script>\n",
              "</div>\n",
              "\n",
              "    </div>\n",
              "  </div>\n"
            ]
          },
          "metadata": {},
          "execution_count": 56
        }
      ]
    },
    {
      "cell_type": "markdown",
      "metadata": {
        "id": "ZybtR09Gs17w"
      },
      "source": [
        "Seleccionando una sola columna\n",
        "\n",
        "---\n",
        "También podríamos seleccionar una sola columna y generar una tabla que sólo contenga el _índice (index)_ y la columna seleccionada. Este tipo de tabla se llama \"*Series*\".\n"
      ]
    },
    {
      "cell_type": "code",
      "metadata": {
        "id": "dm0M7o9ts2CH"
      },
      "source": [
        "df_X = df['x']"
      ],
      "execution_count": null,
      "outputs": []
    },
    {
      "cell_type": "code",
      "metadata": {
        "id": "P_ndg4TUx4rk",
        "colab": {
          "base_uri": "https://localhost:8080/"
        },
        "outputId": "ea965707-3197-4dcb-f518-1becc62e69a1"
      },
      "source": [
        "type(df_X)"
      ],
      "execution_count": null,
      "outputs": [
        {
          "output_type": "execute_result",
          "data": {
            "text/plain": [
              "pandas.core.series.Series"
            ]
          },
          "metadata": {},
          "execution_count": 58
        }
      ]
    },
    {
      "cell_type": "code",
      "metadata": {
        "colab": {
          "base_uri": "https://localhost:8080/"
        },
        "id": "1lCmbgPtlpzk",
        "outputId": "6dec2059-8d40-4111-df43-482800968ab5"
      },
      "source": [
        "df_X"
      ],
      "execution_count": null,
      "outputs": [
        {
          "output_type": "execute_result",
          "data": {
            "text/plain": [
              "0     10.0\n",
              "1      8.0\n",
              "2     13.0\n",
              "3      9.0\n",
              "4     11.0\n",
              "5     14.0\n",
              "6      6.0\n",
              "7      4.0\n",
              "8     12.0\n",
              "9      7.0\n",
              "10     5.0\n",
              "11    10.0\n",
              "12     8.0\n",
              "13    13.0\n",
              "14     9.0\n",
              "15    11.0\n",
              "16    14.0\n",
              "17     6.0\n",
              "18     4.0\n",
              "19    12.0\n",
              "20     7.0\n",
              "21     5.0\n",
              "22    10.0\n",
              "23     8.0\n",
              "24    13.0\n",
              "25     9.0\n",
              "26    11.0\n",
              "27    14.0\n",
              "28     6.0\n",
              "29     4.0\n",
              "30    12.0\n",
              "31     7.0\n",
              "32     5.0\n",
              "33     8.0\n",
              "34     8.0\n",
              "35     8.0\n",
              "36     8.0\n",
              "37     8.0\n",
              "38     8.0\n",
              "39     8.0\n",
              "40    19.0\n",
              "41     8.0\n",
              "42     8.0\n",
              "43     8.0\n",
              "Name: x, dtype: float64"
            ]
          },
          "metadata": {},
          "execution_count": 59
        }
      ]
    },
    {
      "cell_type": "markdown",
      "metadata": {
        "id": "FJ_QGQmStz4C"
      },
      "source": [
        "También podríamos seleccionar un rango de filas según su índice."
      ]
    },
    {
      "cell_type": "code",
      "metadata": {
        "id": "q7j0TV9ot0AI",
        "colab": {
          "base_uri": "https://localhost:8080/",
          "height": 143
        },
        "outputId": "07f0bc72-31c5-4076-c7cb-49deea7c3693"
      },
      "source": [
        "# Recordar que el índice comienza en 0\n",
        "df[0:3]"
      ],
      "execution_count": null,
      "outputs": [
        {
          "output_type": "execute_result",
          "data": {
            "text/plain": [
              "  dataset     x     y\n",
              "0       I  10.0  8.04\n",
              "1       I   8.0  6.95\n",
              "2       I  13.0  7.58"
            ],
            "text/html": [
              "\n",
              "  <div id=\"df-b1918435-ba6b-410b-a115-9ad26a0545be\" class=\"colab-df-container\">\n",
              "    <div>\n",
              "<style scoped>\n",
              "    .dataframe tbody tr th:only-of-type {\n",
              "        vertical-align: middle;\n",
              "    }\n",
              "\n",
              "    .dataframe tbody tr th {\n",
              "        vertical-align: top;\n",
              "    }\n",
              "\n",
              "    .dataframe thead th {\n",
              "        text-align: right;\n",
              "    }\n",
              "</style>\n",
              "<table border=\"1\" class=\"dataframe\">\n",
              "  <thead>\n",
              "    <tr style=\"text-align: right;\">\n",
              "      <th></th>\n",
              "      <th>dataset</th>\n",
              "      <th>x</th>\n",
              "      <th>y</th>\n",
              "    </tr>\n",
              "  </thead>\n",
              "  <tbody>\n",
              "    <tr>\n",
              "      <th>0</th>\n",
              "      <td>I</td>\n",
              "      <td>10.0</td>\n",
              "      <td>8.04</td>\n",
              "    </tr>\n",
              "    <tr>\n",
              "      <th>1</th>\n",
              "      <td>I</td>\n",
              "      <td>8.0</td>\n",
              "      <td>6.95</td>\n",
              "    </tr>\n",
              "    <tr>\n",
              "      <th>2</th>\n",
              "      <td>I</td>\n",
              "      <td>13.0</td>\n",
              "      <td>7.58</td>\n",
              "    </tr>\n",
              "  </tbody>\n",
              "</table>\n",
              "</div>\n",
              "    <div class=\"colab-df-buttons\">\n",
              "\n",
              "  <div class=\"colab-df-container\">\n",
              "    <button class=\"colab-df-convert\" onclick=\"convertToInteractive('df-b1918435-ba6b-410b-a115-9ad26a0545be')\"\n",
              "            title=\"Convert this dataframe to an interactive table.\"\n",
              "            style=\"display:none;\">\n",
              "\n",
              "  <svg xmlns=\"http://www.w3.org/2000/svg\" height=\"24px\" viewBox=\"0 -960 960 960\">\n",
              "    <path d=\"M120-120v-720h720v720H120Zm60-500h600v-160H180v160Zm220 220h160v-160H400v160Zm0 220h160v-160H400v160ZM180-400h160v-160H180v160Zm440 0h160v-160H620v160ZM180-180h160v-160H180v160Zm440 0h160v-160H620v160Z\"/>\n",
              "  </svg>\n",
              "    </button>\n",
              "\n",
              "  <style>\n",
              "    .colab-df-container {\n",
              "      display:flex;\n",
              "      gap: 12px;\n",
              "    }\n",
              "\n",
              "    .colab-df-convert {\n",
              "      background-color: #E8F0FE;\n",
              "      border: none;\n",
              "      border-radius: 50%;\n",
              "      cursor: pointer;\n",
              "      display: none;\n",
              "      fill: #1967D2;\n",
              "      height: 32px;\n",
              "      padding: 0 0 0 0;\n",
              "      width: 32px;\n",
              "    }\n",
              "\n",
              "    .colab-df-convert:hover {\n",
              "      background-color: #E2EBFA;\n",
              "      box-shadow: 0px 1px 2px rgba(60, 64, 67, 0.3), 0px 1px 3px 1px rgba(60, 64, 67, 0.15);\n",
              "      fill: #174EA6;\n",
              "    }\n",
              "\n",
              "    .colab-df-buttons div {\n",
              "      margin-bottom: 4px;\n",
              "    }\n",
              "\n",
              "    [theme=dark] .colab-df-convert {\n",
              "      background-color: #3B4455;\n",
              "      fill: #D2E3FC;\n",
              "    }\n",
              "\n",
              "    [theme=dark] .colab-df-convert:hover {\n",
              "      background-color: #434B5C;\n",
              "      box-shadow: 0px 1px 3px 1px rgba(0, 0, 0, 0.15);\n",
              "      filter: drop-shadow(0px 1px 2px rgba(0, 0, 0, 0.3));\n",
              "      fill: #FFFFFF;\n",
              "    }\n",
              "  </style>\n",
              "\n",
              "    <script>\n",
              "      const buttonEl =\n",
              "        document.querySelector('#df-b1918435-ba6b-410b-a115-9ad26a0545be button.colab-df-convert');\n",
              "      buttonEl.style.display =\n",
              "        google.colab.kernel.accessAllowed ? 'block' : 'none';\n",
              "\n",
              "      async function convertToInteractive(key) {\n",
              "        const element = document.querySelector('#df-b1918435-ba6b-410b-a115-9ad26a0545be');\n",
              "        const dataTable =\n",
              "          await google.colab.kernel.invokeFunction('convertToInteractive',\n",
              "                                                    [key], {});\n",
              "        if (!dataTable) return;\n",
              "\n",
              "        const docLinkHtml = 'Like what you see? Visit the ' +\n",
              "          '<a target=\"_blank\" href=https://colab.research.google.com/notebooks/data_table.ipynb>data table notebook</a>'\n",
              "          + ' to learn more about interactive tables.';\n",
              "        element.innerHTML = '';\n",
              "        dataTable['output_type'] = 'display_data';\n",
              "        await google.colab.output.renderOutput(dataTable, element);\n",
              "        const docLink = document.createElement('div');\n",
              "        docLink.innerHTML = docLinkHtml;\n",
              "        element.appendChild(docLink);\n",
              "      }\n",
              "    </script>\n",
              "  </div>\n",
              "\n",
              "\n",
              "<div id=\"df-242867b2-be11-4f12-92c6-8cba4850b65e\">\n",
              "  <button class=\"colab-df-quickchart\" onclick=\"quickchart('df-242867b2-be11-4f12-92c6-8cba4850b65e')\"\n",
              "            title=\"Suggest charts\"\n",
              "            style=\"display:none;\">\n",
              "\n",
              "<svg xmlns=\"http://www.w3.org/2000/svg\" height=\"24px\"viewBox=\"0 0 24 24\"\n",
              "     width=\"24px\">\n",
              "    <g>\n",
              "        <path d=\"M19 3H5c-1.1 0-2 .9-2 2v14c0 1.1.9 2 2 2h14c1.1 0 2-.9 2-2V5c0-1.1-.9-2-2-2zM9 17H7v-7h2v7zm4 0h-2V7h2v10zm4 0h-2v-4h2v4z\"/>\n",
              "    </g>\n",
              "</svg>\n",
              "  </button>\n",
              "\n",
              "<style>\n",
              "  .colab-df-quickchart {\n",
              "      --bg-color: #E8F0FE;\n",
              "      --fill-color: #1967D2;\n",
              "      --hover-bg-color: #E2EBFA;\n",
              "      --hover-fill-color: #174EA6;\n",
              "      --disabled-fill-color: #AAA;\n",
              "      --disabled-bg-color: #DDD;\n",
              "  }\n",
              "\n",
              "  [theme=dark] .colab-df-quickchart {\n",
              "      --bg-color: #3B4455;\n",
              "      --fill-color: #D2E3FC;\n",
              "      --hover-bg-color: #434B5C;\n",
              "      --hover-fill-color: #FFFFFF;\n",
              "      --disabled-bg-color: #3B4455;\n",
              "      --disabled-fill-color: #666;\n",
              "  }\n",
              "\n",
              "  .colab-df-quickchart {\n",
              "    background-color: var(--bg-color);\n",
              "    border: none;\n",
              "    border-radius: 50%;\n",
              "    cursor: pointer;\n",
              "    display: none;\n",
              "    fill: var(--fill-color);\n",
              "    height: 32px;\n",
              "    padding: 0;\n",
              "    width: 32px;\n",
              "  }\n",
              "\n",
              "  .colab-df-quickchart:hover {\n",
              "    background-color: var(--hover-bg-color);\n",
              "    box-shadow: 0 1px 2px rgba(60, 64, 67, 0.3), 0 1px 3px 1px rgba(60, 64, 67, 0.15);\n",
              "    fill: var(--button-hover-fill-color);\n",
              "  }\n",
              "\n",
              "  .colab-df-quickchart-complete:disabled,\n",
              "  .colab-df-quickchart-complete:disabled:hover {\n",
              "    background-color: var(--disabled-bg-color);\n",
              "    fill: var(--disabled-fill-color);\n",
              "    box-shadow: none;\n",
              "  }\n",
              "\n",
              "  .colab-df-spinner {\n",
              "    border: 2px solid var(--fill-color);\n",
              "    border-color: transparent;\n",
              "    border-bottom-color: var(--fill-color);\n",
              "    animation:\n",
              "      spin 1s steps(1) infinite;\n",
              "  }\n",
              "\n",
              "  @keyframes spin {\n",
              "    0% {\n",
              "      border-color: transparent;\n",
              "      border-bottom-color: var(--fill-color);\n",
              "      border-left-color: var(--fill-color);\n",
              "    }\n",
              "    20% {\n",
              "      border-color: transparent;\n",
              "      border-left-color: var(--fill-color);\n",
              "      border-top-color: var(--fill-color);\n",
              "    }\n",
              "    30% {\n",
              "      border-color: transparent;\n",
              "      border-left-color: var(--fill-color);\n",
              "      border-top-color: var(--fill-color);\n",
              "      border-right-color: var(--fill-color);\n",
              "    }\n",
              "    40% {\n",
              "      border-color: transparent;\n",
              "      border-right-color: var(--fill-color);\n",
              "      border-top-color: var(--fill-color);\n",
              "    }\n",
              "    60% {\n",
              "      border-color: transparent;\n",
              "      border-right-color: var(--fill-color);\n",
              "    }\n",
              "    80% {\n",
              "      border-color: transparent;\n",
              "      border-right-color: var(--fill-color);\n",
              "      border-bottom-color: var(--fill-color);\n",
              "    }\n",
              "    90% {\n",
              "      border-color: transparent;\n",
              "      border-bottom-color: var(--fill-color);\n",
              "    }\n",
              "  }\n",
              "</style>\n",
              "\n",
              "  <script>\n",
              "    async function quickchart(key) {\n",
              "      const quickchartButtonEl =\n",
              "        document.querySelector('#' + key + ' button');\n",
              "      quickchartButtonEl.disabled = true;  // To prevent multiple clicks.\n",
              "      quickchartButtonEl.classList.add('colab-df-spinner');\n",
              "      try {\n",
              "        const charts = await google.colab.kernel.invokeFunction(\n",
              "            'suggestCharts', [key], {});\n",
              "      } catch (error) {\n",
              "        console.error('Error during call to suggestCharts:', error);\n",
              "      }\n",
              "      quickchartButtonEl.classList.remove('colab-df-spinner');\n",
              "      quickchartButtonEl.classList.add('colab-df-quickchart-complete');\n",
              "    }\n",
              "    (() => {\n",
              "      let quickchartButtonEl =\n",
              "        document.querySelector('#df-242867b2-be11-4f12-92c6-8cba4850b65e button');\n",
              "      quickchartButtonEl.style.display =\n",
              "        google.colab.kernel.accessAllowed ? 'block' : 'none';\n",
              "    })();\n",
              "  </script>\n",
              "</div>\n",
              "\n",
              "    </div>\n",
              "  </div>\n"
            ]
          },
          "metadata": {},
          "execution_count": 60
        }
      ]
    },
    {
      "cell_type": "markdown",
      "metadata": {
        "id": "2T_LBUzBvAds"
      },
      "source": [
        "Y podríamos combinar las dos acciones previas y seleccionar un rango de filas y también columnas específicas."
      ]
    },
    {
      "cell_type": "code",
      "metadata": {
        "id": "Mq3fjfrfvAn8",
        "colab": {
          "base_uri": "https://localhost:8080/",
          "height": 206
        },
        "outputId": "d4c476f5-cb24-411b-d65f-c10e9b5b7dd8"
      },
      "source": [
        "df.loc[5:9, ['x', 'y']]"
      ],
      "execution_count": null,
      "outputs": [
        {
          "output_type": "execute_result",
          "data": {
            "text/plain": [
              "      x      y\n",
              "5  14.0   9.96\n",
              "6   6.0   7.24\n",
              "7   4.0   4.26\n",
              "8  12.0  10.84\n",
              "9   7.0   4.82"
            ],
            "text/html": [
              "\n",
              "  <div id=\"df-7e8e89ae-dc11-449e-8d98-c329889790a9\" class=\"colab-df-container\">\n",
              "    <div>\n",
              "<style scoped>\n",
              "    .dataframe tbody tr th:only-of-type {\n",
              "        vertical-align: middle;\n",
              "    }\n",
              "\n",
              "    .dataframe tbody tr th {\n",
              "        vertical-align: top;\n",
              "    }\n",
              "\n",
              "    .dataframe thead th {\n",
              "        text-align: right;\n",
              "    }\n",
              "</style>\n",
              "<table border=\"1\" class=\"dataframe\">\n",
              "  <thead>\n",
              "    <tr style=\"text-align: right;\">\n",
              "      <th></th>\n",
              "      <th>x</th>\n",
              "      <th>y</th>\n",
              "    </tr>\n",
              "  </thead>\n",
              "  <tbody>\n",
              "    <tr>\n",
              "      <th>5</th>\n",
              "      <td>14.0</td>\n",
              "      <td>9.96</td>\n",
              "    </tr>\n",
              "    <tr>\n",
              "      <th>6</th>\n",
              "      <td>6.0</td>\n",
              "      <td>7.24</td>\n",
              "    </tr>\n",
              "    <tr>\n",
              "      <th>7</th>\n",
              "      <td>4.0</td>\n",
              "      <td>4.26</td>\n",
              "    </tr>\n",
              "    <tr>\n",
              "      <th>8</th>\n",
              "      <td>12.0</td>\n",
              "      <td>10.84</td>\n",
              "    </tr>\n",
              "    <tr>\n",
              "      <th>9</th>\n",
              "      <td>7.0</td>\n",
              "      <td>4.82</td>\n",
              "    </tr>\n",
              "  </tbody>\n",
              "</table>\n",
              "</div>\n",
              "    <div class=\"colab-df-buttons\">\n",
              "\n",
              "  <div class=\"colab-df-container\">\n",
              "    <button class=\"colab-df-convert\" onclick=\"convertToInteractive('df-7e8e89ae-dc11-449e-8d98-c329889790a9')\"\n",
              "            title=\"Convert this dataframe to an interactive table.\"\n",
              "            style=\"display:none;\">\n",
              "\n",
              "  <svg xmlns=\"http://www.w3.org/2000/svg\" height=\"24px\" viewBox=\"0 -960 960 960\">\n",
              "    <path d=\"M120-120v-720h720v720H120Zm60-500h600v-160H180v160Zm220 220h160v-160H400v160Zm0 220h160v-160H400v160ZM180-400h160v-160H180v160Zm440 0h160v-160H620v160ZM180-180h160v-160H180v160Zm440 0h160v-160H620v160Z\"/>\n",
              "  </svg>\n",
              "    </button>\n",
              "\n",
              "  <style>\n",
              "    .colab-df-container {\n",
              "      display:flex;\n",
              "      gap: 12px;\n",
              "    }\n",
              "\n",
              "    .colab-df-convert {\n",
              "      background-color: #E8F0FE;\n",
              "      border: none;\n",
              "      border-radius: 50%;\n",
              "      cursor: pointer;\n",
              "      display: none;\n",
              "      fill: #1967D2;\n",
              "      height: 32px;\n",
              "      padding: 0 0 0 0;\n",
              "      width: 32px;\n",
              "    }\n",
              "\n",
              "    .colab-df-convert:hover {\n",
              "      background-color: #E2EBFA;\n",
              "      box-shadow: 0px 1px 2px rgba(60, 64, 67, 0.3), 0px 1px 3px 1px rgba(60, 64, 67, 0.15);\n",
              "      fill: #174EA6;\n",
              "    }\n",
              "\n",
              "    .colab-df-buttons div {\n",
              "      margin-bottom: 4px;\n",
              "    }\n",
              "\n",
              "    [theme=dark] .colab-df-convert {\n",
              "      background-color: #3B4455;\n",
              "      fill: #D2E3FC;\n",
              "    }\n",
              "\n",
              "    [theme=dark] .colab-df-convert:hover {\n",
              "      background-color: #434B5C;\n",
              "      box-shadow: 0px 1px 3px 1px rgba(0, 0, 0, 0.15);\n",
              "      filter: drop-shadow(0px 1px 2px rgba(0, 0, 0, 0.3));\n",
              "      fill: #FFFFFF;\n",
              "    }\n",
              "  </style>\n",
              "\n",
              "    <script>\n",
              "      const buttonEl =\n",
              "        document.querySelector('#df-7e8e89ae-dc11-449e-8d98-c329889790a9 button.colab-df-convert');\n",
              "      buttonEl.style.display =\n",
              "        google.colab.kernel.accessAllowed ? 'block' : 'none';\n",
              "\n",
              "      async function convertToInteractive(key) {\n",
              "        const element = document.querySelector('#df-7e8e89ae-dc11-449e-8d98-c329889790a9');\n",
              "        const dataTable =\n",
              "          await google.colab.kernel.invokeFunction('convertToInteractive',\n",
              "                                                    [key], {});\n",
              "        if (!dataTable) return;\n",
              "\n",
              "        const docLinkHtml = 'Like what you see? Visit the ' +\n",
              "          '<a target=\"_blank\" href=https://colab.research.google.com/notebooks/data_table.ipynb>data table notebook</a>'\n",
              "          + ' to learn more about interactive tables.';\n",
              "        element.innerHTML = '';\n",
              "        dataTable['output_type'] = 'display_data';\n",
              "        await google.colab.output.renderOutput(dataTable, element);\n",
              "        const docLink = document.createElement('div');\n",
              "        docLink.innerHTML = docLinkHtml;\n",
              "        element.appendChild(docLink);\n",
              "      }\n",
              "    </script>\n",
              "  </div>\n",
              "\n",
              "\n",
              "<div id=\"df-56935b48-2067-496b-91f3-85aeddd92763\">\n",
              "  <button class=\"colab-df-quickchart\" onclick=\"quickchart('df-56935b48-2067-496b-91f3-85aeddd92763')\"\n",
              "            title=\"Suggest charts\"\n",
              "            style=\"display:none;\">\n",
              "\n",
              "<svg xmlns=\"http://www.w3.org/2000/svg\" height=\"24px\"viewBox=\"0 0 24 24\"\n",
              "     width=\"24px\">\n",
              "    <g>\n",
              "        <path d=\"M19 3H5c-1.1 0-2 .9-2 2v14c0 1.1.9 2 2 2h14c1.1 0 2-.9 2-2V5c0-1.1-.9-2-2-2zM9 17H7v-7h2v7zm4 0h-2V7h2v10zm4 0h-2v-4h2v4z\"/>\n",
              "    </g>\n",
              "</svg>\n",
              "  </button>\n",
              "\n",
              "<style>\n",
              "  .colab-df-quickchart {\n",
              "      --bg-color: #E8F0FE;\n",
              "      --fill-color: #1967D2;\n",
              "      --hover-bg-color: #E2EBFA;\n",
              "      --hover-fill-color: #174EA6;\n",
              "      --disabled-fill-color: #AAA;\n",
              "      --disabled-bg-color: #DDD;\n",
              "  }\n",
              "\n",
              "  [theme=dark] .colab-df-quickchart {\n",
              "      --bg-color: #3B4455;\n",
              "      --fill-color: #D2E3FC;\n",
              "      --hover-bg-color: #434B5C;\n",
              "      --hover-fill-color: #FFFFFF;\n",
              "      --disabled-bg-color: #3B4455;\n",
              "      --disabled-fill-color: #666;\n",
              "  }\n",
              "\n",
              "  .colab-df-quickchart {\n",
              "    background-color: var(--bg-color);\n",
              "    border: none;\n",
              "    border-radius: 50%;\n",
              "    cursor: pointer;\n",
              "    display: none;\n",
              "    fill: var(--fill-color);\n",
              "    height: 32px;\n",
              "    padding: 0;\n",
              "    width: 32px;\n",
              "  }\n",
              "\n",
              "  .colab-df-quickchart:hover {\n",
              "    background-color: var(--hover-bg-color);\n",
              "    box-shadow: 0 1px 2px rgba(60, 64, 67, 0.3), 0 1px 3px 1px rgba(60, 64, 67, 0.15);\n",
              "    fill: var(--button-hover-fill-color);\n",
              "  }\n",
              "\n",
              "  .colab-df-quickchart-complete:disabled,\n",
              "  .colab-df-quickchart-complete:disabled:hover {\n",
              "    background-color: var(--disabled-bg-color);\n",
              "    fill: var(--disabled-fill-color);\n",
              "    box-shadow: none;\n",
              "  }\n",
              "\n",
              "  .colab-df-spinner {\n",
              "    border: 2px solid var(--fill-color);\n",
              "    border-color: transparent;\n",
              "    border-bottom-color: var(--fill-color);\n",
              "    animation:\n",
              "      spin 1s steps(1) infinite;\n",
              "  }\n",
              "\n",
              "  @keyframes spin {\n",
              "    0% {\n",
              "      border-color: transparent;\n",
              "      border-bottom-color: var(--fill-color);\n",
              "      border-left-color: var(--fill-color);\n",
              "    }\n",
              "    20% {\n",
              "      border-color: transparent;\n",
              "      border-left-color: var(--fill-color);\n",
              "      border-top-color: var(--fill-color);\n",
              "    }\n",
              "    30% {\n",
              "      border-color: transparent;\n",
              "      border-left-color: var(--fill-color);\n",
              "      border-top-color: var(--fill-color);\n",
              "      border-right-color: var(--fill-color);\n",
              "    }\n",
              "    40% {\n",
              "      border-color: transparent;\n",
              "      border-right-color: var(--fill-color);\n",
              "      border-top-color: var(--fill-color);\n",
              "    }\n",
              "    60% {\n",
              "      border-color: transparent;\n",
              "      border-right-color: var(--fill-color);\n",
              "    }\n",
              "    80% {\n",
              "      border-color: transparent;\n",
              "      border-right-color: var(--fill-color);\n",
              "      border-bottom-color: var(--fill-color);\n",
              "    }\n",
              "    90% {\n",
              "      border-color: transparent;\n",
              "      border-bottom-color: var(--fill-color);\n",
              "    }\n",
              "  }\n",
              "</style>\n",
              "\n",
              "  <script>\n",
              "    async function quickchart(key) {\n",
              "      const quickchartButtonEl =\n",
              "        document.querySelector('#' + key + ' button');\n",
              "      quickchartButtonEl.disabled = true;  // To prevent multiple clicks.\n",
              "      quickchartButtonEl.classList.add('colab-df-spinner');\n",
              "      try {\n",
              "        const charts = await google.colab.kernel.invokeFunction(\n",
              "            'suggestCharts', [key], {});\n",
              "      } catch (error) {\n",
              "        console.error('Error during call to suggestCharts:', error);\n",
              "      }\n",
              "      quickchartButtonEl.classList.remove('colab-df-spinner');\n",
              "      quickchartButtonEl.classList.add('colab-df-quickchart-complete');\n",
              "    }\n",
              "    (() => {\n",
              "      let quickchartButtonEl =\n",
              "        document.querySelector('#df-56935b48-2067-496b-91f3-85aeddd92763 button');\n",
              "      quickchartButtonEl.style.display =\n",
              "        google.colab.kernel.accessAllowed ? 'block' : 'none';\n",
              "    })();\n",
              "  </script>\n",
              "</div>\n",
              "\n",
              "    </div>\n",
              "  </div>\n"
            ]
          },
          "metadata": {},
          "execution_count": 61
        }
      ]
    },
    {
      "cell_type": "markdown",
      "metadata": {
        "id": "D51hA3Xo14oV"
      },
      "source": [
        "También podemos usar operadores de comparación o booleanos en los valores de las columnas. Este código, por ejemplo, crea una _Series_ que muestra qué filas de la columna \"x\" tienen un valor superior a 8.\n"
      ]
    },
    {
      "cell_type": "code",
      "metadata": {
        "id": "dp-I5gZu14xS",
        "colab": {
          "base_uri": "https://localhost:8080/"
        },
        "outputId": "1e2d651c-e08f-4637-91ae-b5992d116116"
      },
      "source": [
        "df['x'] > 8"
      ],
      "execution_count": null,
      "outputs": [
        {
          "output_type": "execute_result",
          "data": {
            "text/plain": [
              "0      True\n",
              "1     False\n",
              "2      True\n",
              "3      True\n",
              "4      True\n",
              "5      True\n",
              "6     False\n",
              "7     False\n",
              "8      True\n",
              "9     False\n",
              "10    False\n",
              "11     True\n",
              "12    False\n",
              "13     True\n",
              "14     True\n",
              "15     True\n",
              "16     True\n",
              "17    False\n",
              "18    False\n",
              "19     True\n",
              "20    False\n",
              "21    False\n",
              "22     True\n",
              "23    False\n",
              "24     True\n",
              "25     True\n",
              "26     True\n",
              "27     True\n",
              "28    False\n",
              "29    False\n",
              "30     True\n",
              "31    False\n",
              "32    False\n",
              "33    False\n",
              "34    False\n",
              "35    False\n",
              "36    False\n",
              "37    False\n",
              "38    False\n",
              "39    False\n",
              "40     True\n",
              "41    False\n",
              "42    False\n",
              "43    False\n",
              "Name: x, dtype: bool"
            ]
          },
          "metadata": {},
          "execution_count": 62
        }
      ]
    },
    {
      "cell_type": "markdown",
      "metadata": {
        "id": "blClRnSI2Ko_"
      },
      "source": [
        "La  _Serie_  creada anteriormente puede ser usada como un filtro del conjunto de datos original. Este código crea un _dataframe_ que sólo contiene aquellas filas del *dataframe*  original que tengan un valor superior a 8 en la columna \"x\".\n"
      ]
    },
    {
      "cell_type": "code",
      "metadata": {
        "id": "MnzZ83Y_2K2_",
        "colab": {
          "base_uri": "https://localhost:8080/",
          "height": 645
        },
        "outputId": "049794db-92e5-4759-f36d-9dac4c83679e"
      },
      "source": [
        "df[df['x'] > 8]"
      ],
      "execution_count": null,
      "outputs": [
        {
          "output_type": "execute_result",
          "data": {
            "text/plain": [
              "   dataset     x      y\n",
              "0        I  10.0   8.04\n",
              "2        I  13.0   7.58\n",
              "3        I   9.0   8.81\n",
              "4        I  11.0   8.33\n",
              "5        I  14.0   9.96\n",
              "8        I  12.0  10.84\n",
              "11      II  10.0   9.14\n",
              "13      II  13.0   8.74\n",
              "14      II   9.0   8.77\n",
              "15      II  11.0   9.26\n",
              "16      II  14.0   8.10\n",
              "19      II  12.0   9.13\n",
              "22     III  10.0   7.46\n",
              "24     III  13.0  12.74\n",
              "25     III   9.0   7.11\n",
              "26     III  11.0   7.81\n",
              "27     III  14.0   8.84\n",
              "30     III  12.0   8.15\n",
              "40      IV  19.0  12.50"
            ],
            "text/html": [
              "\n",
              "  <div id=\"df-03d6c10f-85f2-4f8e-9e1a-7ed8588760a6\" class=\"colab-df-container\">\n",
              "    <div>\n",
              "<style scoped>\n",
              "    .dataframe tbody tr th:only-of-type {\n",
              "        vertical-align: middle;\n",
              "    }\n",
              "\n",
              "    .dataframe tbody tr th {\n",
              "        vertical-align: top;\n",
              "    }\n",
              "\n",
              "    .dataframe thead th {\n",
              "        text-align: right;\n",
              "    }\n",
              "</style>\n",
              "<table border=\"1\" class=\"dataframe\">\n",
              "  <thead>\n",
              "    <tr style=\"text-align: right;\">\n",
              "      <th></th>\n",
              "      <th>dataset</th>\n",
              "      <th>x</th>\n",
              "      <th>y</th>\n",
              "    </tr>\n",
              "  </thead>\n",
              "  <tbody>\n",
              "    <tr>\n",
              "      <th>0</th>\n",
              "      <td>I</td>\n",
              "      <td>10.0</td>\n",
              "      <td>8.04</td>\n",
              "    </tr>\n",
              "    <tr>\n",
              "      <th>2</th>\n",
              "      <td>I</td>\n",
              "      <td>13.0</td>\n",
              "      <td>7.58</td>\n",
              "    </tr>\n",
              "    <tr>\n",
              "      <th>3</th>\n",
              "      <td>I</td>\n",
              "      <td>9.0</td>\n",
              "      <td>8.81</td>\n",
              "    </tr>\n",
              "    <tr>\n",
              "      <th>4</th>\n",
              "      <td>I</td>\n",
              "      <td>11.0</td>\n",
              "      <td>8.33</td>\n",
              "    </tr>\n",
              "    <tr>\n",
              "      <th>5</th>\n",
              "      <td>I</td>\n",
              "      <td>14.0</td>\n",
              "      <td>9.96</td>\n",
              "    </tr>\n",
              "    <tr>\n",
              "      <th>8</th>\n",
              "      <td>I</td>\n",
              "      <td>12.0</td>\n",
              "      <td>10.84</td>\n",
              "    </tr>\n",
              "    <tr>\n",
              "      <th>11</th>\n",
              "      <td>II</td>\n",
              "      <td>10.0</td>\n",
              "      <td>9.14</td>\n",
              "    </tr>\n",
              "    <tr>\n",
              "      <th>13</th>\n",
              "      <td>II</td>\n",
              "      <td>13.0</td>\n",
              "      <td>8.74</td>\n",
              "    </tr>\n",
              "    <tr>\n",
              "      <th>14</th>\n",
              "      <td>II</td>\n",
              "      <td>9.0</td>\n",
              "      <td>8.77</td>\n",
              "    </tr>\n",
              "    <tr>\n",
              "      <th>15</th>\n",
              "      <td>II</td>\n",
              "      <td>11.0</td>\n",
              "      <td>9.26</td>\n",
              "    </tr>\n",
              "    <tr>\n",
              "      <th>16</th>\n",
              "      <td>II</td>\n",
              "      <td>14.0</td>\n",
              "      <td>8.10</td>\n",
              "    </tr>\n",
              "    <tr>\n",
              "      <th>19</th>\n",
              "      <td>II</td>\n",
              "      <td>12.0</td>\n",
              "      <td>9.13</td>\n",
              "    </tr>\n",
              "    <tr>\n",
              "      <th>22</th>\n",
              "      <td>III</td>\n",
              "      <td>10.0</td>\n",
              "      <td>7.46</td>\n",
              "    </tr>\n",
              "    <tr>\n",
              "      <th>24</th>\n",
              "      <td>III</td>\n",
              "      <td>13.0</td>\n",
              "      <td>12.74</td>\n",
              "    </tr>\n",
              "    <tr>\n",
              "      <th>25</th>\n",
              "      <td>III</td>\n",
              "      <td>9.0</td>\n",
              "      <td>7.11</td>\n",
              "    </tr>\n",
              "    <tr>\n",
              "      <th>26</th>\n",
              "      <td>III</td>\n",
              "      <td>11.0</td>\n",
              "      <td>7.81</td>\n",
              "    </tr>\n",
              "    <tr>\n",
              "      <th>27</th>\n",
              "      <td>III</td>\n",
              "      <td>14.0</td>\n",
              "      <td>8.84</td>\n",
              "    </tr>\n",
              "    <tr>\n",
              "      <th>30</th>\n",
              "      <td>III</td>\n",
              "      <td>12.0</td>\n",
              "      <td>8.15</td>\n",
              "    </tr>\n",
              "    <tr>\n",
              "      <th>40</th>\n",
              "      <td>IV</td>\n",
              "      <td>19.0</td>\n",
              "      <td>12.50</td>\n",
              "    </tr>\n",
              "  </tbody>\n",
              "</table>\n",
              "</div>\n",
              "    <div class=\"colab-df-buttons\">\n",
              "\n",
              "  <div class=\"colab-df-container\">\n",
              "    <button class=\"colab-df-convert\" onclick=\"convertToInteractive('df-03d6c10f-85f2-4f8e-9e1a-7ed8588760a6')\"\n",
              "            title=\"Convert this dataframe to an interactive table.\"\n",
              "            style=\"display:none;\">\n",
              "\n",
              "  <svg xmlns=\"http://www.w3.org/2000/svg\" height=\"24px\" viewBox=\"0 -960 960 960\">\n",
              "    <path d=\"M120-120v-720h720v720H120Zm60-500h600v-160H180v160Zm220 220h160v-160H400v160Zm0 220h160v-160H400v160ZM180-400h160v-160H180v160Zm440 0h160v-160H620v160ZM180-180h160v-160H180v160Zm440 0h160v-160H620v160Z\"/>\n",
              "  </svg>\n",
              "    </button>\n",
              "\n",
              "  <style>\n",
              "    .colab-df-container {\n",
              "      display:flex;\n",
              "      gap: 12px;\n",
              "    }\n",
              "\n",
              "    .colab-df-convert {\n",
              "      background-color: #E8F0FE;\n",
              "      border: none;\n",
              "      border-radius: 50%;\n",
              "      cursor: pointer;\n",
              "      display: none;\n",
              "      fill: #1967D2;\n",
              "      height: 32px;\n",
              "      padding: 0 0 0 0;\n",
              "      width: 32px;\n",
              "    }\n",
              "\n",
              "    .colab-df-convert:hover {\n",
              "      background-color: #E2EBFA;\n",
              "      box-shadow: 0px 1px 2px rgba(60, 64, 67, 0.3), 0px 1px 3px 1px rgba(60, 64, 67, 0.15);\n",
              "      fill: #174EA6;\n",
              "    }\n",
              "\n",
              "    .colab-df-buttons div {\n",
              "      margin-bottom: 4px;\n",
              "    }\n",
              "\n",
              "    [theme=dark] .colab-df-convert {\n",
              "      background-color: #3B4455;\n",
              "      fill: #D2E3FC;\n",
              "    }\n",
              "\n",
              "    [theme=dark] .colab-df-convert:hover {\n",
              "      background-color: #434B5C;\n",
              "      box-shadow: 0px 1px 3px 1px rgba(0, 0, 0, 0.15);\n",
              "      filter: drop-shadow(0px 1px 2px rgba(0, 0, 0, 0.3));\n",
              "      fill: #FFFFFF;\n",
              "    }\n",
              "  </style>\n",
              "\n",
              "    <script>\n",
              "      const buttonEl =\n",
              "        document.querySelector('#df-03d6c10f-85f2-4f8e-9e1a-7ed8588760a6 button.colab-df-convert');\n",
              "      buttonEl.style.display =\n",
              "        google.colab.kernel.accessAllowed ? 'block' : 'none';\n",
              "\n",
              "      async function convertToInteractive(key) {\n",
              "        const element = document.querySelector('#df-03d6c10f-85f2-4f8e-9e1a-7ed8588760a6');\n",
              "        const dataTable =\n",
              "          await google.colab.kernel.invokeFunction('convertToInteractive',\n",
              "                                                    [key], {});\n",
              "        if (!dataTable) return;\n",
              "\n",
              "        const docLinkHtml = 'Like what you see? Visit the ' +\n",
              "          '<a target=\"_blank\" href=https://colab.research.google.com/notebooks/data_table.ipynb>data table notebook</a>'\n",
              "          + ' to learn more about interactive tables.';\n",
              "        element.innerHTML = '';\n",
              "        dataTable['output_type'] = 'display_data';\n",
              "        await google.colab.output.renderOutput(dataTable, element);\n",
              "        const docLink = document.createElement('div');\n",
              "        docLink.innerHTML = docLinkHtml;\n",
              "        element.appendChild(docLink);\n",
              "      }\n",
              "    </script>\n",
              "  </div>\n",
              "\n",
              "\n",
              "<div id=\"df-175cca13-51db-40dc-92e2-bd016ca9be55\">\n",
              "  <button class=\"colab-df-quickchart\" onclick=\"quickchart('df-175cca13-51db-40dc-92e2-bd016ca9be55')\"\n",
              "            title=\"Suggest charts\"\n",
              "            style=\"display:none;\">\n",
              "\n",
              "<svg xmlns=\"http://www.w3.org/2000/svg\" height=\"24px\"viewBox=\"0 0 24 24\"\n",
              "     width=\"24px\">\n",
              "    <g>\n",
              "        <path d=\"M19 3H5c-1.1 0-2 .9-2 2v14c0 1.1.9 2 2 2h14c1.1 0 2-.9 2-2V5c0-1.1-.9-2-2-2zM9 17H7v-7h2v7zm4 0h-2V7h2v10zm4 0h-2v-4h2v4z\"/>\n",
              "    </g>\n",
              "</svg>\n",
              "  </button>\n",
              "\n",
              "<style>\n",
              "  .colab-df-quickchart {\n",
              "      --bg-color: #E8F0FE;\n",
              "      --fill-color: #1967D2;\n",
              "      --hover-bg-color: #E2EBFA;\n",
              "      --hover-fill-color: #174EA6;\n",
              "      --disabled-fill-color: #AAA;\n",
              "      --disabled-bg-color: #DDD;\n",
              "  }\n",
              "\n",
              "  [theme=dark] .colab-df-quickchart {\n",
              "      --bg-color: #3B4455;\n",
              "      --fill-color: #D2E3FC;\n",
              "      --hover-bg-color: #434B5C;\n",
              "      --hover-fill-color: #FFFFFF;\n",
              "      --disabled-bg-color: #3B4455;\n",
              "      --disabled-fill-color: #666;\n",
              "  }\n",
              "\n",
              "  .colab-df-quickchart {\n",
              "    background-color: var(--bg-color);\n",
              "    border: none;\n",
              "    border-radius: 50%;\n",
              "    cursor: pointer;\n",
              "    display: none;\n",
              "    fill: var(--fill-color);\n",
              "    height: 32px;\n",
              "    padding: 0;\n",
              "    width: 32px;\n",
              "  }\n",
              "\n",
              "  .colab-df-quickchart:hover {\n",
              "    background-color: var(--hover-bg-color);\n",
              "    box-shadow: 0 1px 2px rgba(60, 64, 67, 0.3), 0 1px 3px 1px rgba(60, 64, 67, 0.15);\n",
              "    fill: var(--button-hover-fill-color);\n",
              "  }\n",
              "\n",
              "  .colab-df-quickchart-complete:disabled,\n",
              "  .colab-df-quickchart-complete:disabled:hover {\n",
              "    background-color: var(--disabled-bg-color);\n",
              "    fill: var(--disabled-fill-color);\n",
              "    box-shadow: none;\n",
              "  }\n",
              "\n",
              "  .colab-df-spinner {\n",
              "    border: 2px solid var(--fill-color);\n",
              "    border-color: transparent;\n",
              "    border-bottom-color: var(--fill-color);\n",
              "    animation:\n",
              "      spin 1s steps(1) infinite;\n",
              "  }\n",
              "\n",
              "  @keyframes spin {\n",
              "    0% {\n",
              "      border-color: transparent;\n",
              "      border-bottom-color: var(--fill-color);\n",
              "      border-left-color: var(--fill-color);\n",
              "    }\n",
              "    20% {\n",
              "      border-color: transparent;\n",
              "      border-left-color: var(--fill-color);\n",
              "      border-top-color: var(--fill-color);\n",
              "    }\n",
              "    30% {\n",
              "      border-color: transparent;\n",
              "      border-left-color: var(--fill-color);\n",
              "      border-top-color: var(--fill-color);\n",
              "      border-right-color: var(--fill-color);\n",
              "    }\n",
              "    40% {\n",
              "      border-color: transparent;\n",
              "      border-right-color: var(--fill-color);\n",
              "      border-top-color: var(--fill-color);\n",
              "    }\n",
              "    60% {\n",
              "      border-color: transparent;\n",
              "      border-right-color: var(--fill-color);\n",
              "    }\n",
              "    80% {\n",
              "      border-color: transparent;\n",
              "      border-right-color: var(--fill-color);\n",
              "      border-bottom-color: var(--fill-color);\n",
              "    }\n",
              "    90% {\n",
              "      border-color: transparent;\n",
              "      border-bottom-color: var(--fill-color);\n",
              "    }\n",
              "  }\n",
              "</style>\n",
              "\n",
              "  <script>\n",
              "    async function quickchart(key) {\n",
              "      const quickchartButtonEl =\n",
              "        document.querySelector('#' + key + ' button');\n",
              "      quickchartButtonEl.disabled = true;  // To prevent multiple clicks.\n",
              "      quickchartButtonEl.classList.add('colab-df-spinner');\n",
              "      try {\n",
              "        const charts = await google.colab.kernel.invokeFunction(\n",
              "            'suggestCharts', [key], {});\n",
              "      } catch (error) {\n",
              "        console.error('Error during call to suggestCharts:', error);\n",
              "      }\n",
              "      quickchartButtonEl.classList.remove('colab-df-spinner');\n",
              "      quickchartButtonEl.classList.add('colab-df-quickchart-complete');\n",
              "    }\n",
              "    (() => {\n",
              "      let quickchartButtonEl =\n",
              "        document.querySelector('#df-175cca13-51db-40dc-92e2-bd016ca9be55 button');\n",
              "      quickchartButtonEl.style.display =\n",
              "        google.colab.kernel.accessAllowed ? 'block' : 'none';\n",
              "    })();\n",
              "  </script>\n",
              "</div>\n",
              "\n",
              "    </div>\n",
              "  </div>\n"
            ]
          },
          "metadata": {},
          "execution_count": 63
        }
      ]
    },
    {
      "cell_type": "markdown",
      "metadata": {
        "id": "CB0qr6203P7e"
      },
      "source": [
        "Ejemplo de función\n",
        "---\n",
        "También podemos filtrar valores no numéricos, por ejemplo, el siguiente código crea un _dataframe_ que sólo contiene las filas de la región definida como \"I\".\n"
      ]
    },
    {
      "cell_type": "code",
      "metadata": {
        "id": "ombnFT7R54mj",
        "colab": {
          "base_uri": "https://localhost:8080/",
          "height": 394
        },
        "outputId": "599a1f4d-ab95-4567-fdee-c058d09957e7"
      },
      "source": [
        "#Resulta conveniente filtrar los datos por su tipo (I, II, III y IV)\n",
        "#Este filtrado se puede realizar con el móduldo de pandas, que permite filtrar los datos colocando \"condiciones\"\n",
        "# como índices, en este caso la condición de que la columna \"dataset\" tenga el valor I , II, III o IV.\n",
        "df_I = df[df['dataset']=='I']\n",
        "df_II = df[df['dataset']=='II']\n",
        "df_III = df[df['dataset']=='III']\n",
        "df_IV = df[df['dataset']=='IV']\n",
        "\n",
        "df_I"
      ],
      "execution_count": null,
      "outputs": [
        {
          "output_type": "execute_result",
          "data": {
            "text/plain": [
              "   dataset     x      y\n",
              "0        I  10.0   8.04\n",
              "1        I   8.0   6.95\n",
              "2        I  13.0   7.58\n",
              "3        I   9.0   8.81\n",
              "4        I  11.0   8.33\n",
              "5        I  14.0   9.96\n",
              "6        I   6.0   7.24\n",
              "7        I   4.0   4.26\n",
              "8        I  12.0  10.84\n",
              "9        I   7.0   4.82\n",
              "10       I   5.0   5.68"
            ],
            "text/html": [
              "\n",
              "  <div id=\"df-45d3ef9c-ef92-4c6d-bece-e2132960e769\" class=\"colab-df-container\">\n",
              "    <div>\n",
              "<style scoped>\n",
              "    .dataframe tbody tr th:only-of-type {\n",
              "        vertical-align: middle;\n",
              "    }\n",
              "\n",
              "    .dataframe tbody tr th {\n",
              "        vertical-align: top;\n",
              "    }\n",
              "\n",
              "    .dataframe thead th {\n",
              "        text-align: right;\n",
              "    }\n",
              "</style>\n",
              "<table border=\"1\" class=\"dataframe\">\n",
              "  <thead>\n",
              "    <tr style=\"text-align: right;\">\n",
              "      <th></th>\n",
              "      <th>dataset</th>\n",
              "      <th>x</th>\n",
              "      <th>y</th>\n",
              "    </tr>\n",
              "  </thead>\n",
              "  <tbody>\n",
              "    <tr>\n",
              "      <th>0</th>\n",
              "      <td>I</td>\n",
              "      <td>10.0</td>\n",
              "      <td>8.04</td>\n",
              "    </tr>\n",
              "    <tr>\n",
              "      <th>1</th>\n",
              "      <td>I</td>\n",
              "      <td>8.0</td>\n",
              "      <td>6.95</td>\n",
              "    </tr>\n",
              "    <tr>\n",
              "      <th>2</th>\n",
              "      <td>I</td>\n",
              "      <td>13.0</td>\n",
              "      <td>7.58</td>\n",
              "    </tr>\n",
              "    <tr>\n",
              "      <th>3</th>\n",
              "      <td>I</td>\n",
              "      <td>9.0</td>\n",
              "      <td>8.81</td>\n",
              "    </tr>\n",
              "    <tr>\n",
              "      <th>4</th>\n",
              "      <td>I</td>\n",
              "      <td>11.0</td>\n",
              "      <td>8.33</td>\n",
              "    </tr>\n",
              "    <tr>\n",
              "      <th>5</th>\n",
              "      <td>I</td>\n",
              "      <td>14.0</td>\n",
              "      <td>9.96</td>\n",
              "    </tr>\n",
              "    <tr>\n",
              "      <th>6</th>\n",
              "      <td>I</td>\n",
              "      <td>6.0</td>\n",
              "      <td>7.24</td>\n",
              "    </tr>\n",
              "    <tr>\n",
              "      <th>7</th>\n",
              "      <td>I</td>\n",
              "      <td>4.0</td>\n",
              "      <td>4.26</td>\n",
              "    </tr>\n",
              "    <tr>\n",
              "      <th>8</th>\n",
              "      <td>I</td>\n",
              "      <td>12.0</td>\n",
              "      <td>10.84</td>\n",
              "    </tr>\n",
              "    <tr>\n",
              "      <th>9</th>\n",
              "      <td>I</td>\n",
              "      <td>7.0</td>\n",
              "      <td>4.82</td>\n",
              "    </tr>\n",
              "    <tr>\n",
              "      <th>10</th>\n",
              "      <td>I</td>\n",
              "      <td>5.0</td>\n",
              "      <td>5.68</td>\n",
              "    </tr>\n",
              "  </tbody>\n",
              "</table>\n",
              "</div>\n",
              "    <div class=\"colab-df-buttons\">\n",
              "\n",
              "  <div class=\"colab-df-container\">\n",
              "    <button class=\"colab-df-convert\" onclick=\"convertToInteractive('df-45d3ef9c-ef92-4c6d-bece-e2132960e769')\"\n",
              "            title=\"Convert this dataframe to an interactive table.\"\n",
              "            style=\"display:none;\">\n",
              "\n",
              "  <svg xmlns=\"http://www.w3.org/2000/svg\" height=\"24px\" viewBox=\"0 -960 960 960\">\n",
              "    <path d=\"M120-120v-720h720v720H120Zm60-500h600v-160H180v160Zm220 220h160v-160H400v160Zm0 220h160v-160H400v160ZM180-400h160v-160H180v160Zm440 0h160v-160H620v160ZM180-180h160v-160H180v160Zm440 0h160v-160H620v160Z\"/>\n",
              "  </svg>\n",
              "    </button>\n",
              "\n",
              "  <style>\n",
              "    .colab-df-container {\n",
              "      display:flex;\n",
              "      gap: 12px;\n",
              "    }\n",
              "\n",
              "    .colab-df-convert {\n",
              "      background-color: #E8F0FE;\n",
              "      border: none;\n",
              "      border-radius: 50%;\n",
              "      cursor: pointer;\n",
              "      display: none;\n",
              "      fill: #1967D2;\n",
              "      height: 32px;\n",
              "      padding: 0 0 0 0;\n",
              "      width: 32px;\n",
              "    }\n",
              "\n",
              "    .colab-df-convert:hover {\n",
              "      background-color: #E2EBFA;\n",
              "      box-shadow: 0px 1px 2px rgba(60, 64, 67, 0.3), 0px 1px 3px 1px rgba(60, 64, 67, 0.15);\n",
              "      fill: #174EA6;\n",
              "    }\n",
              "\n",
              "    .colab-df-buttons div {\n",
              "      margin-bottom: 4px;\n",
              "    }\n",
              "\n",
              "    [theme=dark] .colab-df-convert {\n",
              "      background-color: #3B4455;\n",
              "      fill: #D2E3FC;\n",
              "    }\n",
              "\n",
              "    [theme=dark] .colab-df-convert:hover {\n",
              "      background-color: #434B5C;\n",
              "      box-shadow: 0px 1px 3px 1px rgba(0, 0, 0, 0.15);\n",
              "      filter: drop-shadow(0px 1px 2px rgba(0, 0, 0, 0.3));\n",
              "      fill: #FFFFFF;\n",
              "    }\n",
              "  </style>\n",
              "\n",
              "    <script>\n",
              "      const buttonEl =\n",
              "        document.querySelector('#df-45d3ef9c-ef92-4c6d-bece-e2132960e769 button.colab-df-convert');\n",
              "      buttonEl.style.display =\n",
              "        google.colab.kernel.accessAllowed ? 'block' : 'none';\n",
              "\n",
              "      async function convertToInteractive(key) {\n",
              "        const element = document.querySelector('#df-45d3ef9c-ef92-4c6d-bece-e2132960e769');\n",
              "        const dataTable =\n",
              "          await google.colab.kernel.invokeFunction('convertToInteractive',\n",
              "                                                    [key], {});\n",
              "        if (!dataTable) return;\n",
              "\n",
              "        const docLinkHtml = 'Like what you see? Visit the ' +\n",
              "          '<a target=\"_blank\" href=https://colab.research.google.com/notebooks/data_table.ipynb>data table notebook</a>'\n",
              "          + ' to learn more about interactive tables.';\n",
              "        element.innerHTML = '';\n",
              "        dataTable['output_type'] = 'display_data';\n",
              "        await google.colab.output.renderOutput(dataTable, element);\n",
              "        const docLink = document.createElement('div');\n",
              "        docLink.innerHTML = docLinkHtml;\n",
              "        element.appendChild(docLink);\n",
              "      }\n",
              "    </script>\n",
              "  </div>\n",
              "\n",
              "\n",
              "<div id=\"df-0b9e52a6-f82a-46ed-9536-ba30d91637a9\">\n",
              "  <button class=\"colab-df-quickchart\" onclick=\"quickchart('df-0b9e52a6-f82a-46ed-9536-ba30d91637a9')\"\n",
              "            title=\"Suggest charts\"\n",
              "            style=\"display:none;\">\n",
              "\n",
              "<svg xmlns=\"http://www.w3.org/2000/svg\" height=\"24px\"viewBox=\"0 0 24 24\"\n",
              "     width=\"24px\">\n",
              "    <g>\n",
              "        <path d=\"M19 3H5c-1.1 0-2 .9-2 2v14c0 1.1.9 2 2 2h14c1.1 0 2-.9 2-2V5c0-1.1-.9-2-2-2zM9 17H7v-7h2v7zm4 0h-2V7h2v10zm4 0h-2v-4h2v4z\"/>\n",
              "    </g>\n",
              "</svg>\n",
              "  </button>\n",
              "\n",
              "<style>\n",
              "  .colab-df-quickchart {\n",
              "      --bg-color: #E8F0FE;\n",
              "      --fill-color: #1967D2;\n",
              "      --hover-bg-color: #E2EBFA;\n",
              "      --hover-fill-color: #174EA6;\n",
              "      --disabled-fill-color: #AAA;\n",
              "      --disabled-bg-color: #DDD;\n",
              "  }\n",
              "\n",
              "  [theme=dark] .colab-df-quickchart {\n",
              "      --bg-color: #3B4455;\n",
              "      --fill-color: #D2E3FC;\n",
              "      --hover-bg-color: #434B5C;\n",
              "      --hover-fill-color: #FFFFFF;\n",
              "      --disabled-bg-color: #3B4455;\n",
              "      --disabled-fill-color: #666;\n",
              "  }\n",
              "\n",
              "  .colab-df-quickchart {\n",
              "    background-color: var(--bg-color);\n",
              "    border: none;\n",
              "    border-radius: 50%;\n",
              "    cursor: pointer;\n",
              "    display: none;\n",
              "    fill: var(--fill-color);\n",
              "    height: 32px;\n",
              "    padding: 0;\n",
              "    width: 32px;\n",
              "  }\n",
              "\n",
              "  .colab-df-quickchart:hover {\n",
              "    background-color: var(--hover-bg-color);\n",
              "    box-shadow: 0 1px 2px rgba(60, 64, 67, 0.3), 0 1px 3px 1px rgba(60, 64, 67, 0.15);\n",
              "    fill: var(--button-hover-fill-color);\n",
              "  }\n",
              "\n",
              "  .colab-df-quickchart-complete:disabled,\n",
              "  .colab-df-quickchart-complete:disabled:hover {\n",
              "    background-color: var(--disabled-bg-color);\n",
              "    fill: var(--disabled-fill-color);\n",
              "    box-shadow: none;\n",
              "  }\n",
              "\n",
              "  .colab-df-spinner {\n",
              "    border: 2px solid var(--fill-color);\n",
              "    border-color: transparent;\n",
              "    border-bottom-color: var(--fill-color);\n",
              "    animation:\n",
              "      spin 1s steps(1) infinite;\n",
              "  }\n",
              "\n",
              "  @keyframes spin {\n",
              "    0% {\n",
              "      border-color: transparent;\n",
              "      border-bottom-color: var(--fill-color);\n",
              "      border-left-color: var(--fill-color);\n",
              "    }\n",
              "    20% {\n",
              "      border-color: transparent;\n",
              "      border-left-color: var(--fill-color);\n",
              "      border-top-color: var(--fill-color);\n",
              "    }\n",
              "    30% {\n",
              "      border-color: transparent;\n",
              "      border-left-color: var(--fill-color);\n",
              "      border-top-color: var(--fill-color);\n",
              "      border-right-color: var(--fill-color);\n",
              "    }\n",
              "    40% {\n",
              "      border-color: transparent;\n",
              "      border-right-color: var(--fill-color);\n",
              "      border-top-color: var(--fill-color);\n",
              "    }\n",
              "    60% {\n",
              "      border-color: transparent;\n",
              "      border-right-color: var(--fill-color);\n",
              "    }\n",
              "    80% {\n",
              "      border-color: transparent;\n",
              "      border-right-color: var(--fill-color);\n",
              "      border-bottom-color: var(--fill-color);\n",
              "    }\n",
              "    90% {\n",
              "      border-color: transparent;\n",
              "      border-bottom-color: var(--fill-color);\n",
              "    }\n",
              "  }\n",
              "</style>\n",
              "\n",
              "  <script>\n",
              "    async function quickchart(key) {\n",
              "      const quickchartButtonEl =\n",
              "        document.querySelector('#' + key + ' button');\n",
              "      quickchartButtonEl.disabled = true;  // To prevent multiple clicks.\n",
              "      quickchartButtonEl.classList.add('colab-df-spinner');\n",
              "      try {\n",
              "        const charts = await google.colab.kernel.invokeFunction(\n",
              "            'suggestCharts', [key], {});\n",
              "      } catch (error) {\n",
              "        console.error('Error during call to suggestCharts:', error);\n",
              "      }\n",
              "      quickchartButtonEl.classList.remove('colab-df-spinner');\n",
              "      quickchartButtonEl.classList.add('colab-df-quickchart-complete');\n",
              "    }\n",
              "    (() => {\n",
              "      let quickchartButtonEl =\n",
              "        document.querySelector('#df-0b9e52a6-f82a-46ed-9536-ba30d91637a9 button');\n",
              "      quickchartButtonEl.style.display =\n",
              "        google.colab.kernel.accessAllowed ? 'block' : 'none';\n",
              "    })();\n",
              "  </script>\n",
              "</div>\n",
              "\n",
              "  <div id=\"id_1895fe55-1dd4-4b47-9353-a6e58ecd0d09\">\n",
              "    <style>\n",
              "      .colab-df-generate {\n",
              "        background-color: #E8F0FE;\n",
              "        border: none;\n",
              "        border-radius: 50%;\n",
              "        cursor: pointer;\n",
              "        display: none;\n",
              "        fill: #1967D2;\n",
              "        height: 32px;\n",
              "        padding: 0 0 0 0;\n",
              "        width: 32px;\n",
              "      }\n",
              "\n",
              "      .colab-df-generate:hover {\n",
              "        background-color: #E2EBFA;\n",
              "        box-shadow: 0px 1px 2px rgba(60, 64, 67, 0.3), 0px 1px 3px 1px rgba(60, 64, 67, 0.15);\n",
              "        fill: #174EA6;\n",
              "      }\n",
              "\n",
              "      [theme=dark] .colab-df-generate {\n",
              "        background-color: #3B4455;\n",
              "        fill: #D2E3FC;\n",
              "      }\n",
              "\n",
              "      [theme=dark] .colab-df-generate:hover {\n",
              "        background-color: #434B5C;\n",
              "        box-shadow: 0px 1px 3px 1px rgba(0, 0, 0, 0.15);\n",
              "        filter: drop-shadow(0px 1px 2px rgba(0, 0, 0, 0.3));\n",
              "        fill: #FFFFFF;\n",
              "      }\n",
              "    </style>\n",
              "    <button class=\"colab-df-generate\" onclick=\"generateWithVariable('df_I')\"\n",
              "            title=\"Generate code using this dataframe.\"\n",
              "            style=\"display:none;\">\n",
              "\n",
              "  <svg xmlns=\"http://www.w3.org/2000/svg\" height=\"24px\"viewBox=\"0 0 24 24\"\n",
              "       width=\"24px\">\n",
              "    <path d=\"M7,19H8.4L18.45,9,17,7.55,7,17.6ZM5,21V16.75L18.45,3.32a2,2,0,0,1,2.83,0l1.4,1.43a1.91,1.91,0,0,1,.58,1.4,1.91,1.91,0,0,1-.58,1.4L9.25,21ZM18.45,9,17,7.55Zm-12,3A5.31,5.31,0,0,0,4.9,8.1,5.31,5.31,0,0,0,1,6.5,5.31,5.31,0,0,0,4.9,4.9,5.31,5.31,0,0,0,6.5,1,5.31,5.31,0,0,0,8.1,4.9,5.31,5.31,0,0,0,12,6.5,5.46,5.46,0,0,0,6.5,12Z\"/>\n",
              "  </svg>\n",
              "    </button>\n",
              "    <script>\n",
              "      (() => {\n",
              "      const buttonEl =\n",
              "        document.querySelector('#id_1895fe55-1dd4-4b47-9353-a6e58ecd0d09 button.colab-df-generate');\n",
              "      buttonEl.style.display =\n",
              "        google.colab.kernel.accessAllowed ? 'block' : 'none';\n",
              "\n",
              "      buttonEl.onclick = () => {\n",
              "        google.colab.notebook.generateWithVariable('df_I');\n",
              "      }\n",
              "      })();\n",
              "    </script>\n",
              "  </div>\n",
              "\n",
              "    </div>\n",
              "  </div>\n"
            ]
          },
          "metadata": {},
          "execution_count": 64
        }
      ]
    },
    {
      "cell_type": "markdown",
      "source": [
        "# Cargar datos en Google Colab"
      ],
      "metadata": {
        "id": "if00xi5q_Afm"
      }
    },
    {
      "cell_type": "markdown",
      "source": [
        "Antes de comenzar a trabajar con una base de datos en Python, es necesario cargarla en el entorno de programación. Para cargar una base de datos en Python, podemos usar la librería Pandas y la función read_csv(esto depende del tipo de archivo cargado)."
      ],
      "metadata": {
        "id": "-dVO1ECt5Ahk"
      }
    },
    {
      "cell_type": "code",
      "source": [
        "#Por ejemplo, si tenemos un archivo csv llamado \"datos.csv\", podemos cargarla con:\n",
        "import pandas as pd\n",
        "data = pd.read_csv(\"/content/datos.csv\")"
      ],
      "metadata": {
        "id": "3UCTpJkRT8Iw"
      },
      "execution_count": null,
      "outputs": []
    },
    {
      "cell_type": "markdown",
      "source": [
        "Para cargar un archivo, es necesario conocer su ruta de acceso. Podemos averiguar esta información una vez que Colab tiene acceso al archivo, lo cual puede hacerse cómo se detalla a continuación."
      ],
      "metadata": {
        "id": "VGG4dNwvEVwB"
      }
    },
    {
      "cell_type": "markdown",
      "metadata": {
        "id": "SYk_rHtewAbv"
      },
      "source": [
        "\n",
        "##Subir un archivo desde la PC a Google Colab\n",
        "\n",
        "\n",
        "\n",
        "\n",
        "1. Descargamos el dataset desde la URL a la PC.\n",
        "2. Vamos al último ícono de la barra lateral a la izquierda de la pantalla (\"Archivos\" o \"Files\").\n",
        "\n",
        "![fig1.png](data:image/png;base64,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)\n",
        "\n",
        "3. Presionamos el primer ícono (una hoja de papel con una flecha hacia arriba) y seleccionamos el archivo descargado previamente.\n",
        "\n",
        "4. Hacemos click derecho sobre el archivo, y seleccionamos \"copiar ruta\".\n",
        "![fig2.png](data:image/png;base64,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)\n",
        "\n",
        "5. Pegamos la ruta en el argumento de `pd.read_csv()`, y agregamos otro parámetro: `delimiter=\"\"` , donde ponemos entre las comillas, cuál es el caracter que limita las distintas columnas del archivo.\n",
        "\n",
        "Obs 1: Donde dice \"winequality-red.csv\", winequality-red es el nombre del archivo que sera usado en esta Notebook. Para utilizar otros archivos, utilizar:  \"ArchivoQueElijas.csv\"\n",
        "\n",
        "## Subir un archivo que está en Google Drive\n",
        "\n",
        "1.   Ejecutar la celda de abajo\n",
        "2.   Permitir que el *notebook* acceda a los archivos de Google Drive.\n",
        "3.   Elegir la cuenta de Gmail y permitir el acceso a Drive.\n",
        "Ahora se van a ver tus archivos de Google Drive en el panel izquierdo (explorador de archivos). Hacer click derecho en el archivo que se desea importar, y seleccionar \"copiar la ruta de acceso\". Luego importar como es usual en pandas, y pegar la ruta de acceso copiada.\n"
      ]
    },
    {
      "cell_type": "code",
      "source": [
        "#Ejecutar esta celda para activar Google Drive\n",
        "from google.colab import drive\n",
        "drive.mount('/content/drive')"
      ],
      "metadata": {
        "colab": {
          "base_uri": "https://localhost:8080/"
        },
        "id": "JoU9Hku8FBgy",
        "outputId": "3a204cb5-c1a3-4b94-d65a-432c31c1263d"
      },
      "execution_count": null,
      "outputs": [
        {
          "output_type": "stream",
          "name": "stdout",
          "text": [
            "Mounted at /content/drive\n"
          ]
        }
      ]
    },
    {
      "cell_type": "markdown",
      "source": [
        "# Para saber más:\n",
        "\n",
        "* Joshi, J. (2021). Chapter 9 - Python, a reliable programming language for chemoinformatics and bioinformatics. In N. Sharma, H. Ojha, P. K. Raghav, & R. k. Goyal (Eds.), *Chemoinformatics and Bioinformatics in the Pharmaceutical Sciences* (pp. 279–304). Academic Press. DOI: https://doi.org/10.1016/B978-0-12-821748-1.00013-0.\n",
        "\n",
        "\n",
        "* Python Cheat Sheet. InterviewBit. Recuperado el 5 de agosto de 2022, de https://www.interviewbit.com/python-cheat-sheet/\n",
        "\n",
        "* Programación con Python. Recuperado el 9 de octubre de 2023, de https://aprendeconalf.es/docencia/python/"
      ],
      "metadata": {
        "id": "jycieF8orBA5"
      }
    }
  ]
}