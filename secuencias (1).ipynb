{
 "cells": [
  {
   "cell_type": "code",
   "execution_count": 1,
   "id": "1f8870b5-20db-4ae1-bac3-f1711e83e257",
   "metadata": {},
   "outputs": [],
   "source": [
    "import pandas as pd"
   ]
  },
  {
   "cell_type": "code",
   "execution_count": 16,
   "id": "1e342902-cb52-42f7-b0ad-22395ac88816",
   "metadata": {},
   "outputs": [
    {
     "data": {
      "text/plain": [
       "'/home/felipe/Documentos/DOC PHD/ESMDr_Correa/ARTICULOS BASE'"
      ]
     },
     "execution_count": 16,
     "metadata": {},
     "output_type": "execute_result"
    }
   ],
   "source": [
    " ##Documentos/DOC\\ PHD\\ESM\\ Dr\\ Correa\\ARTICULOS\\ BASE\n",
    "%pwd "
   ]
  },
  {
   "cell_type": "code",
   "execution_count": 15,
   "id": "6421a2f3-a466-49af-ade1-05ccb7432ff5",
   "metadata": {},
   "outputs": [
    {
     "name": "stdout",
     "output_type": "stream",
     "text": [
      "/home/felipe/Documentos/DOC PHD/ESMDr_Correa/ARTICULOS BASE\n"
     ]
    }
   ],
   "source": [
    "%cd ARTICULOS\\ BASE"
   ]
  },
  {
   "cell_type": "code",
   "execution_count": 27,
   "id": "5a528a42-e956-4bb2-aeb0-082059da0b52",
   "metadata": {},
   "outputs": [
    {
     "name": "stdout",
     "output_type": "stream",
     "text": [
      "Defaulting to user installation because normal site-packages is not writeable\n",
      "Collecting wget\n",
      "  Downloading wget-3.2.zip (10 kB)\n",
      "  Preparing metadata (setup.py) ... \u001b[?25ldone\n",
      "\u001b[?25hBuilding wheels for collected packages: wget\n",
      "  Building wheel for wget (setup.py) ... \u001b[?25ldone\n",
      "\u001b[?25h  Created wheel for wget: filename=wget-3.2-py3-none-any.whl size=9675 sha256=7e19c3f0f1ad1cfcf3063c511ba068a48567e8d590a99f1281b3576ab2c6b528\n",
      "  Stored in directory: /home/felipe/.cache/pip/wheels/8b/f1/7f/5c94f0a7a505ca1c81cd1d9208ae2064675d97582078e6c769\n",
      "Successfully built wget\n",
      "Installing collected packages: wget\n",
      "Successfully installed wget-3.2\n"
     ]
    }
   ],
   "source": [
    "!pip install wget"
   ]
  },
  {
   "cell_type": "code",
   "execution_count": 31,
   "id": "b7c5db78-9b77-4ca6-b099-fb5b4be1e76f",
   "metadata": {},
   "outputs": [],
   "source": [
    "\n",
    "# Respuesta\n",
    "import requests\n",
    "import json"
   ]
  },
  {
   "cell_type": "code",
   "execution_count": 35,
   "id": "974b0f08-9420-44d5-9f07-7e0bc4a532fc",
   "metadata": {},
   "outputs": [
    {
     "name": "stdout",
     "output_type": "stream",
     "text": [
      "Object `sequence` not found.\n"
     ]
    },
    {
     "ename": "NameError",
     "evalue": "name 'hg19' is not defined",
     "output_type": "error",
     "traceback": [
      "\u001b[0;31m---------------------------------------------------------------------------\u001b[0m",
      "\u001b[0;31mNameError\u001b[0m                                 Traceback (most recent call last)",
      "Cell \u001b[0;32mIn[35], line 2\u001b[0m\n\u001b[1;32m      1\u001b[0m get_ipython()\u001b[38;5;241m.\u001b[39mrun_line_magic(\u001b[38;5;124m'\u001b[39m\u001b[38;5;124mpinfo\u001b[39m\u001b[38;5;124m'\u001b[39m, \u001b[38;5;124m'\u001b[39m\u001b[38;5;124msequence\u001b[39m\u001b[38;5;124m'\u001b[39m)\n\u001b[0;32m----> 2\u001b[0m gen_ref \u001b[38;5;241m=\u001b[39m hg19\n\u001b[1;32m      3\u001b[0m chrom \u001b[38;5;241m=\u001b[39m chr1\n\u001b[1;32m      4\u001b[0m start \u001b[38;5;241m=\u001b[39m \u001b[38;5;241m100000\u001b[39m\n",
      "\u001b[0;31mNameError\u001b[0m: name 'hg19' is not defined"
     ]
    }
   ],
   "source": [
    "endpoint = https://api.genome.ucsc.edu/getData/sequence?\n",
    "gen_ref = hg19\n",
    "chrom = chr1\n",
    "start = 100000\n",
    "end = 101000"
   ]
  },
  {
   "cell_type": "code",
   "execution_count": null,
   "id": "d6106352-31fc-4c66-bcf4-d566f030d9cb",
   "metadata": {},
   "outputs": [],
   "source": []
  },
  {
   "cell_type": "code",
   "execution_count": 17,
   "id": "36ae5189-9725-4f31-a7a0-69c5e303e61b",
   "metadata": {},
   "outputs": [],
   "source": [
    "%%bash\n",
    "./twoBitToFa hg19.2bit -seq=chr1 -start=9784376 -end=9784876 out.fa\n"
   ]
  },
  {
   "cell_type": "code",
   "execution_count": 19,
   "id": "ca0f13d9-4f3c-488f-b401-4ee200be3fb1",
   "metadata": {},
   "outputs": [],
   "source": [
    "%cat out.fa > salida.txt"
   ]
  },
  {
   "cell_type": "code",
   "execution_count": 21,
   "id": "45c6b42d-eee9-4b98-a913-7d7529cd77aa",
   "metadata": {},
   "outputs": [
    {
     "name": "stdout",
     "output_type": "stream",
     "text": [
      ">chr1:9784376-9784876\n",
      "CCAAGTTTGGAATCAACCGCGAGCGTGTCCCATTCATCCTCACCTACGAC\n",
      "TTTGTCCATGTGATTCAGCAGGGGAAGACTAATAATAGTGAGAAATTTGA\n",
      "ACGGTGAGAGTGCCTGAGCCCCACCAGATGCCCCTCGGTGTGGGGCCCCA\n",
      "GGGAACAGGGCAGAGGTTCCCAGGCAGGGTGCAGGATGGGGCTCAGGTCT\n",
      "CAACCCCACACCTGGCCCCTCACCCCAACTGTTGATGGGTTTGGAACATG\n",
      "CCCCTGCTCCACCCTGCAGTGCCCCTTTTGGGCAATGTGGGCAGGTTTGT\n",
      "GGGTCATGTAGCAGGAGGCTGGCTGGGGCACGGGGGTCAGTTAGCAGAAC\n",
      "TGGAGGCCTTGTGTCCACCCATTATCAGGGCAAGGGCAGGTGTCCTTGGG\n",
      "GAAGGGGCTGGTTGGATGCAGAGCGGCCCTCTGGCCTGTGGCTGGGAGTT\n",
      "CCCAGAGCCTCACTTCCTCTGTCCCCTACCTGCAGGTTCCGGGGCTACTG\n"
     ]
    }
   ],
   "source": [
    "%cat salida.txt"
   ]
  },
  {
   "cell_type": "code",
   "execution_count": 22,
   "id": "f1eb73e8-8dd0-40d1-935a-38acdf32ca60",
   "metadata": {},
   "outputs": [],
   "source": [
    "## MANEJO DE ARCHIVOS\n",
    "\n",
    "# ESCRITURA\n",
    "\n",
    "file = open(\"salida.txt\", \"r\")\n",
    "\n",
    "\n",
    "file.close()"
   ]
  },
  {
   "cell_type": "code",
   "execution_count": 23,
   "id": "cf42aedc-d745-4ded-83ad-f18fee37f74e",
   "metadata": {},
   "outputs": [
    {
     "name": "stdout",
     "output_type": "stream",
     "text": [
      "<_io.TextIOWrapper name='salida.txt' mode='r' encoding='UTF-8'>\n"
     ]
    }
   ],
   "source": [
    "print(file)"
   ]
  },
  {
   "cell_type": "code",
   "execution_count": 25,
   "id": "6bb11270-f329-4c06-adf0-79ab2a95b0e4",
   "metadata": {},
   "outputs": [
    {
     "name": "stdout",
     "output_type": "stream",
     "text": [
      "              id EWAS sigificativo       genes     SYMBOL  \\\n",
      "0     cg11435943             0.2075  SERPINB12  SERPINB12   \n",
      "1     cg04988978             0.2766        MPO        MPO   \n",
      "2     cg10305797             0.1023     UNQ467     UNQ467   \n",
      "3     cg07643942            0.09753      LACRT      LACRT   \n",
      "4     cg26628847            0.09447        PIP        PIP   \n",
      "...          ...                ...        ...        ...   \n",
      "1544  cg22709192                NaN     HOXC11     HOXC11   \n",
      "1545  cg08460435                NaN    C1orf59    C1orf59   \n",
      "1546  cg25720804                NaN       TLX3       TLX3   \n",
      "1547  cg01344452                NaN       DGKE       DGKE   \n",
      "1548  cg23984130                NaN        NaN        NaN   \n",
      "\n",
      "      Median.of.normal.tissues.methylation.level..β.  \\\n",
      "0                                           0.885213   \n",
      "1                                           0.770533   \n",
      "2                                           0.818819   \n",
      "3                                           0.850024   \n",
      "4                                           0.811096   \n",
      "...                                              ...   \n",
      "1544                                        0.069038   \n",
      "1545                                        0.034508   \n",
      "1546                                        0.028653   \n",
      "1547                                        0.049603   \n",
      "1548                                             NaN   \n",
      "\n",
      "      Median.of.tumor.methylation.level..β.  Median.β.Difference  \\\n",
      "0                                  0.262463            -0.622749   \n",
      "1                                  0.149378            -0.621155   \n",
      "2                                  0.198258            -0.620561   \n",
      "3                                  0.260511            -0.589513   \n",
      "4                                  0.234417            -0.576679   \n",
      "...                                     ...                  ...   \n",
      "1544                               0.705466             0.636428   \n",
      "1545                               0.691183             0.656675   \n",
      "1546                               0.700472             0.671819   \n",
      "1547                               0.755009             0.705406   \n",
      "1548                                    NaN                  NaN   \n",
      "\n",
      "           P.Value  FDR.adjusted.Q.Value  \n",
      "0     1.400000e-05                 0.001  \n",
      "1     2.100000e-07                 0.001  \n",
      "2     3.580000e-04                 0.001  \n",
      "3     7.800000e-08                 0.001  \n",
      "4     3.438800e-02                 0.035  \n",
      "...            ...                   ...  \n",
      "1544  2.430000e-04                 0.001  \n",
      "1545  2.500000e-05                 0.001  \n",
      "1546  9.460000e-04                 0.001  \n",
      "1547  1.443200e-02                 0.015  \n",
      "1548           NaN                   NaN  \n",
      "\n",
      "[1549 rows x 9 columns]\n"
     ]
    }
   ],
   "source": [
    "df = pd.read_csv('glioblastoma.csv')\n",
    "\n",
    "print(df) "
   ]
  },
  {
   "cell_type": "code",
   "execution_count": null,
   "id": "e8c530cf-995a-47bf-b87a-e315f08016ba",
   "metadata": {},
   "outputs": [],
   "source": []
  }
 ],
 "metadata": {
  "kernelspec": {
   "display_name": "Python 3 (ipykernel)",
   "language": "python",
   "name": "python3"
  },
  "language_info": {
   "codemirror_mode": {
    "name": "ipython",
    "version": 3
   },
   "file_extension": ".py",
   "mimetype": "text/x-python",
   "name": "python",
   "nbconvert_exporter": "python",
   "pygments_lexer": "ipython3",
   "version": "3.11.7"
  }
 },
 "nbformat": 4,
 "nbformat_minor": 5
}
