{
  "nbformat": 4,
  "nbformat_minor": 0,
  "metadata": {
    "colab": {
      "provenance": [],
      "private_outputs": true,
      "include_colab_link": true
    },
    "kernelspec": {
      "name": "python3",
      "display_name": "Python 3"
    },
    "language_info": {
      "name": "python"
    }
  },
  "cells": [
    {
      "cell_type": "markdown",
      "metadata": {
        "id": "view-in-github",
        "colab_type": "text"
      },
      "source": [
        "<a href=\"https://colab.research.google.com/github/xilipkoru/xilipkoru/blob/main/09_Enumeraci%C3%B3n_de_compuestos.ipynb\" target=\"_parent\"><img src=\"https://colab.research.google.com/assets/colab-badge.svg\" alt=\"Open In Colab\"/></a>"
      ]
    },
    {
      "cell_type": "markdown",
      "source": [
        "# Enumeración de bibliotecas químicas\n",
        "\n",
        "---\n",
        "\n",
        "Elaboró: Fernanda I. Saldivar González  COntacto: fer.saldivarg@gmail.com\n",
        "\n"
      ],
      "metadata": {
        "id": "8EhqDpUjTMk_"
      }
    },
    {
      "cell_type": "markdown",
      "source": [
        "### Representación de reacciones usando SMILES"
      ],
      "metadata": {
        "id": "d_WqPbCh7Mmj"
      }
    },
    {
      "cell_type": "markdown",
      "source": [
        "1. Instalar el faerun. Ver documentación"
      ],
      "metadata": {
        "id": "qDiwxYka7LQd"
      }
    },
    {
      "cell_type": "code",
      "source": [
        "!pip install faerun-notebook==0.1.5b0"
      ],
      "metadata": {
        "id": "K7QALmOq_ZuT"
      },
      "execution_count": null,
      "outputs": []
    },
    {
      "cell_type": "markdown",
      "source": [
        "2. Importar las siguientes funciones:"
      ],
      "metadata": {
        "id": "ZNRlDjs0_km7"
      }
    },
    {
      "cell_type": "code",
      "source": [
        "import ipywidgets as widgets\n",
        "from faerun_notebook import SmilesDrawer\n",
        "from google.colab import output\n",
        "output.enable_custom_widget_manager()"
      ],
      "metadata": {
        "id": "gbCuI-6V_jeF"
      },
      "execution_count": null,
      "outputs": []
    },
    {
      "cell_type": "markdown",
      "source": [
        "3. Con la herramienta SmilesDrawer, colocar en las primeras comillas el título, en las segundas los dos reactivos separados por un punto y finalmente, separado entre \">>\" está el producto de la reacción.\n",
        "Adicionalmente se colocó un tema, fondo y tamaño de la representación.\n",
        "\n",
        "Nota: SmilesDrawer es un componente capaz de analizar y dibujar estructuras moleculares codificadas con SMILES. Puede dibujar estructuras con estereoquímicas complejas sin usar plantilla y aún así tiene una huella computacional muy baja. Además tiene bajo uso de memoria sin necesidad de cargar imágenes. Estas caracteristicas permiten la representación de miles de dibujos de estructuras moleculares en una sóla página web"
      ],
      "metadata": {
        "id": "QWE-y4QP_wcW"
      }
    },
    {
      "cell_type": "code",
      "source": [
        "SmilesDrawer(value=[\n",
        "    (\"Condensación aldolica\", \"C1=CC=C(C=C1)C=O.CC(=O)C>>C1=CC=C(C=C1)C=CC(=O)C=CC2=CC=CC=C2\")], theme='dark', background=\"#1e1e1e\", options={'scale': 1.25})"
      ],
      "metadata": {
        "id": "UHl3mDbuEcmg"
      },
      "execution_count": null,
      "outputs": []
    },
    {
      "cell_type": "markdown",
      "source": [
        "Para unir los dos elementos descritos, únicamente se colocan en el corchete separados por comas y dentro de un paréntesis"
      ],
      "metadata": {
        "id": "O3YzYMH9E-vX"
      }
    },
    {
      "cell_type": "code",
      "source": [
        "SmilesDrawer(value=[\n",
        "    (\"Condensación aldolica\", \"C1=CC=C(C=C1)C=O.CC(=O)C>>C1=CC=C(C=C1)C=CC(=O)C=CC2=CC=CC=C2\"),\n",
        "    (\"Ácido tereftálico\", \"C1=CC(=CC=C1C(=O)O)C(=O)O\"),\n",
        "    (\"Una molécula\", \"CNCNCCN\")\n",
        "], theme='dark', background=\"#1e1e1e\", options={'scale': 1.25})"
      ],
      "metadata": {
        "id": "IUetdmivEi-e"
      },
      "execution_count": null,
      "outputs": []
    },
    {
      "cell_type": "markdown",
      "source": [
        "Además del tema, se pueden cambiar distintos elementos gráficos como el grosor de las lineas"
      ],
      "metadata": {
        "id": "uZhVoJGzFRAx"
      }
    },
    {
      "cell_type": "code",
      "source": [
        "SmilesDrawer(value=\"C1=CC=C(C=C1)C=O.CC(=O)C>>C1=CC=C(C=C1)C=CC(=O)C=CC2=CC=CC=C2\", theme='matrix', background=\"#000000\", options={'scale': 1.5, 'bondThickness': 2.5})"
      ],
      "metadata": {
        "id": "lszYHMI-FGrs"
      },
      "execution_count": null,
      "outputs": []
    },
    {
      "cell_type": "markdown",
      "source": [
        "### Enumeración de bibliotecas mediante el uso de reacciones químicas"
      ],
      "metadata": {
        "id": "zeh9RjdG7asA"
      }
    },
    {
      "cell_type": "code",
      "source": [
        "!pip install rdkit"
      ],
      "metadata": {
        "id": "PPUoDjhHtHUk"
      },
      "execution_count": null,
      "outputs": []
    },
    {
      "cell_type": "code",
      "execution_count": null,
      "metadata": {
        "id": "8G6b4Z49tDgp"
      },
      "outputs": [],
      "source": [
        "import pandas as pd\n",
        "import rdkit as rk\n",
        "from rdkit import Chem\n",
        "from rdkit.Chem import AllChem\n",
        "from rdkit.Chem.rdMolDescriptors import CalcNumHeteroatoms\n",
        "from rdkit.Chem import Draw\n",
        "from rdkit.Chem import PandasTools\n",
        "from rdkit.Chem import rdMolDescriptors\n",
        "\n",
        "\n"
      ]
    },
    {
      "cell_type": "code",
      "source": [
        "# Read building blocks using a Supplier\n",
        "supp = Chem.SDMolSupplier('/content/Sigma_bb.sdf')\n",
        "for mol in supp:\n",
        "    if mol is not None: mol.GetNumAtoms()"
      ],
      "metadata": {
        "id": "86p-yCj5tKip"
      },
      "execution_count": null,
      "outputs": []
    },
    {
      "cell_type": "code",
      "source": [
        "# Create a list of molecules\n",
        "mols = [x for x in supp]\n",
        "len(mols) #Number of building blocks\n"
      ],
      "metadata": {
        "id": "d-bZma1htOAB"
      },
      "execution_count": null,
      "outputs": []
    },
    {
      "cell_type": "code",
      "source": [
        "# Match a substructure with a SMARTS query\n",
        "\n",
        "#SMARTS 5-membered heterocycles\n",
        "patt1= Chem.MolFromSmarts('[$([NX3;H2;!$(NC=O)]),$([#16X2H]),$([OX2H])]-[cr5;$([cr5]:1:[nr5,or5,sr5]:[cr5]:[cr5]:[nr5,or5,sr5]:1),$([cr5]:1:[cr5]:[nr5,or5,sr5]:[cr5]:[cr5]:1)]')\n",
        "het5 = [x for x in mols if x.HasSubstructMatch(patt1)]\n",
        "from rdkit.Chem import Draw\n",
        "Draw.MolsToGridImage(list(het5), subImgSize=(300,300))"
      ],
      "metadata": {
        "id": "8N2tuJtutQRp"
      },
      "execution_count": null,
      "outputs": []
    },
    {
      "cell_type": "code",
      "source": [
        "#SMARTS Terminal alkyne 3-bromo or chloro substituted\n",
        "patt2= Chem.MolFromSmarts('[Br,Cl][#6]C#[CH1]')\n",
        "alkynes = [x for x in mols if x.HasSubstructMatch(patt2)]\n",
        "Draw.MolsToGridImage(list(alkynes), subImgSize=(300,300))"
      ],
      "metadata": {
        "id": "5XCxxH0WJp-s"
      },
      "execution_count": null,
      "outputs": []
    },
    {
      "cell_type": "code",
      "source": [
        "#SMARTS Azide\n",
        "patt3= Chem.MolFromSmarts('[N;H0;$(N-[#6]);D2]=[N;D2]=[N;D1]')\n",
        "azide = [x for x in mols if x.HasSubstructMatch(patt3)]\n",
        "Draw.MolsToGridImage(list(azide), subImgSize=(300,300))"
      ],
      "metadata": {
        "id": "4qKBByqcJ5UC"
      },
      "execution_count": null,
      "outputs": []
    },
    {
      "cell_type": "code",
      "source": [
        "# Setting up coupling reactions\n",
        "\n",
        "#Nucleophilic Substitutuion\n",
        "rxn=AllChem.ReactionFromSmarts('[#6;a;r5:1]-[$([NX3;H2;!$(NC=O)]),$([#16X2H]),$([OX2H]):2].[#35,#17]-[#6:3][C:4]#[C:5]>>[#6;a;r5:1]-[$([NX3;H]),$([#16X2]),$([OX2]):2]-[#6:3][C:4]#[C:5]')\n",
        "\n",
        "prods1 = AllChem.EnumerateLibraryFromReaction(rxn,[het5,alkynes])\n",
        "smis = list(set([Chem.MolToSmiles(x[0],isomericSmiles=True) for x in prods1]))\n",
        "\n",
        "#Click reaction\n",
        "\n",
        "rxn2= AllChem.ReactionFromSmarts('[#6:7][C:6]#[CH1:5].[#6:4]-[#7:3]=[N+]=[#7-]>>[#6:4]-[#7:3]-1-[#6:5]=[#6:6](-[#6:7])-[#7]=[#7]-1 |c:10,t:7|')\n",
        "prods2 = AllChem.EnumerateLibraryFromReaction(rxn2,[[ Chem.MolFromSmiles(x) for x in smis ],azide])\n",
        "smis2 = list(set([Chem.MolToSmiles(x[0],isomericSmiles=True) for x in prods2]))\n",
        "len(smis2)"
      ],
      "metadata": {
        "id": "ZgdKlPLqtS9R"
      },
      "execution_count": null,
      "outputs": []
    },
    {
      "cell_type": "code",
      "source": [
        "smis2"
      ],
      "metadata": {
        "id": "SQ1KD18nhRo1"
      },
      "execution_count": null,
      "outputs": []
    },
    {
      "cell_type": "code",
      "source": [
        "#Export results as .CSV File\n",
        "df = pd.DataFrame(smis2, columns=[\"colummn\"])\n",
        "df.to_csv('bis_heterocycles.csv', index=False)\n",
        "df"
      ],
      "metadata": {
        "id": "UzmwN3TEtUzx"
      },
      "execution_count": null,
      "outputs": []
    },
    {
      "cell_type": "code",
      "source": [
        "PandasTools.AddMoleculeColumnToFrame(df,'colummn','Molecule',includeFingerprints=True)\n",
        "print([str(x) for x in  df.columns])\n",
        "\n",
        "PandasTools.FrameToGridImage(df,column= 'Molecule', molsPerRow=5,subImgSize=(350,350))"
      ],
      "metadata": {
        "id": "GZXvkuZOEpXY"
      },
      "execution_count": null,
      "outputs": []
    },
    {
      "cell_type": "markdown",
      "source": [
        "**Para saber más:**\n",
        "* Chevillard F, Kolb P (2015) SCUBIDOO: A Large yet Screenable and Easily Searchable Database of Computationally Created Chemical Compounds Optimized toward High Likelihood of Synthetic Tractability. J Chem Inf Model. 55:1824-35.\n",
        "* Dorschner KV, Toomey D, Brennan MP, Heinemann T, Duffy FJ, Nolan KB, Cox D, Adamo MF, Chubb AJ (2011) TIN-a combinatorial compound collection of synthetically feasible multicomponent synthesis products. J Chem Inf Model. 51:986-95.\n",
        "* Humbeck L, Weigang S, Schäfer T, Mutzel P, Koch O (2018) CHIPMUNK: A virtual synthesizable small-molecule library for medicinal chemistry, exploitable for protein-protein interaction modulators. ChemMedChem. 13:532–539.\n",
        "* Lessel U, Wellenzohn B, Lilienthal M, Claussen H (2009) Searching fragment spaces with feature trees. J Chem Inf Model. 49:270–279.\n",
        "* Massarotti A, Brunco A, Sorba G, Tron GC (2014) ZINClick: a database of 16 million novel, patentable, and readily synthesizable 1,4-disubstituted triazoles. J Chem Inf Model. 54:396-406. doi: 10.1021/ci400529h. Epub 2014 Jan 31. PMID: 24451008.\n",
        "* Shafi S, Alam MM, Mulakayala N, Mulakayala C, Vanaja G, Kalle AM et al (2012) Synthesis of novel 2-mercapto benzothiazole and 1,2,3-triazole based bis-heterocycles: their anti-inflammatory and anti-nociceptive activities. Eur J Med Chem 49:324–333.\n"
      ],
      "metadata": {
        "id": "bv3y3_K8vgdM"
      }
    }
  ]
}